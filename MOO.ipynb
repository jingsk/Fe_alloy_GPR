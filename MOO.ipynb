{
 "cells": [
  {
   "cell_type": "code",
   "execution_count": 1,
   "id": "8bbc5e6f-315e-4a8e-9635-4e26a5d6c237",
   "metadata": {},
   "outputs": [],
   "source": [
    "import pandas as pd\n",
    "import numpy as np\n",
    "import torch\n",
    "import os\n",
    "\n",
    "dataset_path = './dataset/'\n",
    "dataset_files = ['TcData.csv' ,'BsData.csv']\n",
    "\n",
    "tkwargs = {\n",
    "    \"dtype\": torch.double,\n",
    "    \"device\": torch.device(\"cuda\" if torch.cuda.is_available() else \"cpu\"),\n",
    "}\n",
    "\n",
    "dfs = dict([])\n",
    "for file in dataset_files:\n",
    "    df = pd.read_csv(os.path.join(dataset_path,file), na_values=0)\n",
    "    df = df.rename(columns={'Composition': 'formula'})\n",
    "    df.name = file[:2]\n",
    "    dfs[df.name] = df"
   ]
  },
  {
   "cell_type": "code",
   "execution_count": 2,
   "id": "88581e59-9d8c-4764-a283-716e86b03b29",
   "metadata": {},
   "outputs": [],
   "source": [
    "from utils import add_feature\n",
    "\n",
    "load_df = True\n",
    "for df_name, df in dfs.items():\n",
    "    if load_df:\n",
    "        dfs[df_name] = pd.read_pickle(os.path.join(dataset_path, f\"./df_data_{df.name}.pkl\"))\n",
    "    else:    \n",
    "        name = df.name\n",
    "        df = add_feature.add_composition(df)\n",
    "        df = add_feature.add_element_fraction(df)\n",
    "        df.name = name\n",
    "        dfs[df_name] = df \n",
    "        df.to_pickle(os.path.join(dataset_path, f\"./df_data_{df.name}.pkl\"))"
   ]
  },
  {
   "cell_type": "code",
   "execution_count": 3,
   "id": "03d27590-f027-41a1-8dff-f559d85bcd0c",
   "metadata": {
    "scrolled": true
   },
   "outputs": [],
   "source": [
    "from utils.surrogate import surrogate_model\n",
    "\n",
    "Tc_surrogate = surrogate_model(name='Tc', df=dfs['Tc'])\n",
    "Bs_surrogate = surrogate_model(name='Bs', df=dfs['Bs'])"
   ]
  },
  {
   "cell_type": "code",
   "execution_count": 4,
   "id": "f87d0c60-d192-42af-9e4c-015e9e34a36d",
   "metadata": {},
   "outputs": [],
   "source": [
    "Tc_surrogate.cleanup_df(drop_NaN = False, drop_col_with_NaN = True)\n",
    "Bs_surrogate.cleanup_df(drop_NaN = False, drop_col_with_NaN = True)"
   ]
  },
  {
   "cell_type": "code",
   "execution_count": 5,
   "id": "0d1ed59b-35c4-4591-b22b-f770fd029c8c",
   "metadata": {},
   "outputs": [
    {
     "name": "stdout",
     "output_type": "stream",
     "text": [
      "-------------------\n",
      "Training Tc\n",
      "Epoch 100/600 - Loss: 1.407 noise: 1.259\n",
      "Epoch 200/600 - Loss: 1.225 noise: 0.547\n",
      "Epoch 300/600 - Loss: 0.730 noise: 0.104\n",
      "Epoch 400/600 - Loss: 0.681 noise: 0.090\n",
      "Epoch 500/600 - Loss: 0.678 noise: 0.089\n",
      "Epoch 600/600 - Loss: 0.676 noise: 0.089\n",
      "-------------------\n",
      "-------------------\n",
      "Training Bs\n",
      "Epoch 100/600 - Loss: 1.338 noise: 1.144\n",
      "Epoch 200/600 - Loss: 1.179 noise: 0.504\n",
      "Epoch 300/600 - Loss: 1.042 noise: 0.349\n",
      "Epoch 400/600 - Loss: 0.856 noise: 0.185\n",
      "Epoch 500/600 - Loss: 0.827 noise: 0.166\n",
      "Epoch 600/600 - Loss: 0.825 noise: 0.165\n",
      "-------------------\n"
     ]
    }
   ],
   "source": [
    "from botorch.models.gp_regression import SingleTaskGP\n",
    "from botorch.models.transforms.outcome import Standardize\n",
    "from gpytorch.mlls.sum_marginal_log_likelihood import ExactMarginalLogLikelihood\n",
    "from gpytorch.kernels import RBFKernel, ScaleKernel\n",
    "#from botorch.fit import fit_gpytorch_mll\n",
    "from torch.optim import SGD, Adam\n",
    "from botorch.models.transforms.input import ChainedInputTransform\n",
    "from utils.model import trainGP, NormalizeElementFractions, NormalizeFeatures\n",
    "from utils.model import test_features_normalized\n",
    "\n",
    "for surrogate_model in [Tc_surrogate, Bs_surrogate]:\n",
    "    surrogate_model.model = None\n",
    "    outcome_transform = Standardize(m=1)\n",
    "    normalize_other = NormalizeFeatures(indices=surrogate_model.to_scale_col)\n",
    "    normalize_EF = NormalizeElementFractions(indices=surrogate_model.EF_col)\n",
    "    input_transform = ChainedInputTransform(\n",
    "        tf1=normalize_other, \n",
    "        tf2=normalize_EF,\n",
    "    )\n",
    "    \n",
    "    surrogate_model.model = SingleTaskGP(\n",
    "        torch.tensor(surrogate_model.X), \n",
    "        torch.tensor(surrogate_model.y).unsqueeze(dim=1),\n",
    "        input_transform=input_transform,\n",
    "        outcome_transform=outcome_transform,\n",
    "        covar_module=ScaleKernel(RBFKernel()),\n",
    "    )\n",
    "    \n",
    "    print(\"-------------------\")\n",
    "\n",
    "    surrogate_model.model.train()\n",
    "    #optimizer_kwargs = {'lr': 1e-2, 'weight_decay': 1e-3}\n",
    "    optimizer_kwargs = {'lr': 5e-2, 'weight_decay': 1e-4}\n",
    "    print(f\"Training {surrogate_model.name}\")\n",
    "    #surrogate_model.model.train()\n",
    "    trainGP(surrogate_model.model,\n",
    "            mll = ExactMarginalLogLikelihood(surrogate_model.model.likelihood, surrogate_model.model), \n",
    "            optimizer = SGD([{'params': surrogate_model.model.parameters()}], **optimizer_kwargs),\n",
    "            num_epochs=600,\n",
    "            print_interval = 100 \n",
    "           )\n",
    "    print(\"-------------------\")"
   ]
  },
  {
   "cell_type": "code",
   "execution_count": 6,
   "id": "dce0cdd8-15ad-46ef-99f3-5a4d5708eb27",
   "metadata": {
    "scrolled": true
   },
   "outputs": [],
   "source": [
    "from botorch.models.model_list_gp_regression import ModelListGP\n",
    "from botorch.models.gp_regression import SingleTaskGP\n",
    "from botorch.models.transforms.outcome import Standardize\n",
    "from gpytorch.mlls.sum_marginal_log_likelihood import SumMarginalLogLikelihood\n",
    "from gpytorch.kernels import RBFKernel, ScaleKernel\n",
    "#from botorch.fit import fit_gpytorch_mll\n",
    "from torch.optim import SGD, Adam\n",
    "from botorch.models.transforms.input import ChainedInputTransform\n",
    "from utils.model import trainGP, NormalizeElementFractions, NormalizeFeatures\n",
    "from utils.model import test_features_normalized\n",
    "\n",
    "def initialize_model(train_x, train_obj):\n",
    "    \n",
    "    models = []\n",
    "    #first index goes over obj_idx\n",
    "    for i in range(train_obj.shape[-1]):\n",
    "        y = train_obj[..., i]\n",
    "        X = train_x[..., i]\n",
    "        \n",
    "        outcome_transform = Standardize(m=1)\n",
    "        normalize_other = NormalizeFeatures(indices=surrogate_model.to_scale_col)\n",
    "        normalize_EF = NormalizeElementFractions(indices=surrogate_model.EF_col)\n",
    "        input_transform = ChainedInputTransform(\n",
    "            tf1=normalize_other, \n",
    "            tf2=normalize_EF,\n",
    "        )\n",
    "        \n",
    "        model = SingleTaskGP(\n",
    "            X,\n",
    "            y.unsqueeze(dim=1), \n",
    "            input_transform=input_transform,\n",
    "            outcome_transform=outcome_transform,\n",
    "            covar_module=ScaleKernel(RBFKernel()),\n",
    "        )\n",
    "        models.append(model)\n",
    "        \n",
    "    model = ModelListGP(*models)\n",
    "    mll = SumMarginalLogLikelihood(model.likelihood, model)\n",
    "    return mll, model"
   ]
  },
  {
   "cell_type": "code",
   "execution_count": 7,
   "id": "aa5a17d8-b880-4b52-890e-49eeb5bd6cd1",
   "metadata": {
    "scrolled": true
   },
   "outputs": [],
   "source": [
    "from utils.model import trainGPList\n",
    "def train_model(model: ModelListGP, mll: SumMarginalLogLikelihood):\n",
    "    print(\"-------------------\")\n",
    "    model.train()\n",
    "    #optimizer_kwargs = {'lr': 1e-2, 'weight_decay': 1e-3}\n",
    "    optimizer_kwargs = {'lr': 5e-2, 'weight_decay': 1e-4}\n",
    "    #print(f\"Training {model_name}\")\n",
    "    #surrogate_model.model.train()\n",
    "    trainGPList(model,\n",
    "                mll = mll, \n",
    "                optimizer = SGD([{'params': model.parameters()}], **optimizer_kwargs),\n",
    "                num_epochs=600,\n",
    "                print_interval = 100 \n",
    "           )\n",
    "    print(\"-------------------\")"
   ]
  },
  {
   "cell_type": "code",
   "execution_count": 8,
   "id": "601e69cd-6840-4519-a108-50cdb707065a",
   "metadata": {},
   "outputs": [],
   "source": [
    "SMOKE_TEST=True\n",
    "surrogates = [Tc_surrogate, Bs_surrogate]\n",
    "ref_point = torch.tensor([np.average(surrogate.y) for surrogate in surrogates],**tkwargs)"
   ]
  },
  {
   "cell_type": "code",
   "execution_count": 9,
   "id": "70b8e310-5549-41e5-a055-6ad6c37efdf7",
   "metadata": {},
   "outputs": [],
   "source": [
    "def generate_initial_data(surrogates):\n",
    "    from utils.model import evaluateGP\n",
    "    X = np.concatenate([surrogate.X for surrogate in surrogates],axis=0)\n",
    "    y = [evaluateGP(surrogate.model, X) for surrogate in surrogates][0]\n",
    "    X = torch.tensor(X, **tkwargs)\n",
    "    y = [torch.tensor(array, **tkwargs) for array in y]\n",
    "    X = torch.stack((X, X),dim=-1)\n",
    "    y = torch.stack(y,dim=-1)\n",
    "    \n",
    "    return X, y"
   ]
  },
  {
   "cell_type": "code",
   "execution_count": 10,
   "id": "30052cb1-edf2-4414-9cf9-e0e8535617d0",
   "metadata": {},
   "outputs": [],
   "source": [
    "from botorch.optim.optimize import optimize_acqf, optimize_acqf_list\n",
    "from botorch.acquisition.objective import GenericMCObjective\n",
    "from botorch.utils.multi_objective.scalarization import get_chebyshev_scalarization\n",
    "from botorch.utils.multi_objective.box_decompositions.non_dominated import (\n",
    "    FastNondominatedPartitioning,\n",
    ")\n",
    "from botorch.acquisition.multi_objective.monte_carlo import (\n",
    "    qExpectedHypervolumeImprovement,\n",
    "    qNoisyExpectedHypervolumeImprovement,\n",
    ")\n",
    "from botorch.utils.sampling import sample_simplex\n",
    "\n",
    "\n",
    "BATCH_SIZE = 4\n",
    "NUM_RESTARTS = 10 if not SMOKE_TEST else 2\n",
    "RAW_SAMPLES = 512 if not SMOKE_TEST else 4\n",
    "\n",
    "standard_bounds = torch.zeros(2, 2, **tkwargs)\n",
    "standard_bounds[:,1] = 1\n",
    "\n",
    "\n",
    "def optimize_qehvi_and_get_observation(model, train_x, train_obj, sampler):\n",
    "    \"\"\"Optimizes the qEHVI acquisition function, and returns a new candidate and observation.\"\"\"\n",
    "    # partition non-dominated space into disjoint rectangles\n",
    "    with torch.no_grad():\n",
    "        pred = model.posterior(normalize(train_x, problem.bounds)).mean\n",
    "    partitioning = FastNondominatedPartitioning(\n",
    "        ref_point=ref_point,\n",
    "        Y=pred,\n",
    "    )\n",
    "    acq_func = qExpectedHypervolumeImprovement(\n",
    "        model=model,\n",
    "        ref_point=ref_point,\n",
    "        partitioning=partitioning,\n",
    "        sampler=sampler,\n",
    "    )\n",
    "    # optimize\n",
    "    candidates, _ = optimize_acqf(\n",
    "        acq_function=acq_func,\n",
    "        bounds=standard_bounds,\n",
    "        q=BATCH_SIZE,\n",
    "        num_restarts=NUM_RESTARTS,\n",
    "        raw_samples=RAW_SAMPLES,  # used for intialization heuristic\n",
    "        options={\"batch_limit\": 5, \"maxiter\": 200},\n",
    "        sequential=True,\n",
    "    )\n",
    "    # observe new values\n",
    "    new_x = unnormalize(candidates.detach(), bounds=problem.bounds)\n",
    "    new_obj_true = problem(new_x)\n",
    "    #new_obj = new_obj_true + torch.randn_like(new_obj_true) * NOISE_SE\n",
    "    return new_x, new_obj_true"
   ]
  },
  {
   "cell_type": "code",
   "execution_count": 11,
   "id": "1c24f726-7f97-4548-91de-54fad1991071",
   "metadata": {},
   "outputs": [],
   "source": [
    "def optimize_qnehvi_and_get_observation(model, train_x, train_obj, sampler):\n",
    "    \"\"\"Optimizes the qEHVI acquisition function, and returns a new candidate and observation.\"\"\"\n",
    "    # partition non-dominated space into disjoint rectangles\n",
    "    acq_func = qNoisyExpectedHypervolumeImprovement(\n",
    "        model=model,\n",
    "        ref_point=ref_point.tolist(),  # use known reference point\n",
    "        X_baseline=normalize(train_x, problem.bounds),\n",
    "        prune_baseline=True,  # prune baseline points that have estimated zero probability of being Pareto optimal\n",
    "        sampler=sampler,\n",
    "    )\n",
    "    # optimize\n",
    "    candidates, _ = optimize_acqf(\n",
    "        acq_function=acq_func,\n",
    "        bounds=standard_bounds,\n",
    "        q=BATCH_SIZE,\n",
    "        num_restarts=NUM_RESTARTS,\n",
    "        raw_samples=RAW_SAMPLES,  # used for intialization heuristic\n",
    "        options={\"batch_limit\": 5, \"maxiter\": 200},\n",
    "        sequential=True,\n",
    "    )\n",
    "    # observe new values\n",
    "    new_x = unnormalize(candidates.detach(), bounds=problem.bounds)\n",
    "    new_obj_true = problem(new_x)\n",
    "    #new_obj = new_obj_true + torch.randn_like(new_obj_true) * NOISE_SE\n",
    "    return new_x, new_obj_true"
   ]
  },
  {
   "cell_type": "code",
   "execution_count": 12,
   "id": "f4aa6d97-56e9-4399-886d-98f2909490b2",
   "metadata": {},
   "outputs": [],
   "source": [
    "from botorch.acquisition.monte_carlo import qNoisyExpectedImprovement\n",
    "\n",
    "\n",
    "def optimize_qnparego_and_get_observation(model, train_x, train_obj, sampler):\n",
    "    \"\"\"Samples a set of random weights for each candidate in the batch, performs sequential greedy optimization\n",
    "    of the qNParEGO acquisition function, and returns a new candidate and observation.\"\"\"\n",
    "    train_x = normalize(train_x, problem.bounds)\n",
    "    with torch.no_grad():\n",
    "        pred = model.posterior(train_x).mean\n",
    "    acq_func_list = []\n",
    "    for _ in range(BATCH_SIZE):\n",
    "        weights = sample_simplex(problem.num_objectives, **tkwargs).squeeze()\n",
    "        objective = GenericMCObjective(\n",
    "            get_chebyshev_scalarization(weights=weights, Y=pred)\n",
    "        )\n",
    "        acq_func = qNoisyExpectedImprovement(  # pyre-ignore: [28]\n",
    "            model=model,\n",
    "            objective=objective,\n",
    "            X_baseline=train_x,\n",
    "            sampler=sampler,\n",
    "            prune_baseline=True,\n",
    "        )\n",
    "        acq_func_list.append(acq_func)\n",
    "    # optimize\n",
    "    candidates, _ = optimize_acqf_list(\n",
    "        acq_function_list=acq_func_list,\n",
    "        bounds=standard_bounds,\n",
    "        num_restarts=NUM_RESTARTS,\n",
    "        raw_samples=RAW_SAMPLES,  # used for intialization heuristic\n",
    "        options={\"batch_limit\": 5, \"maxiter\": 200},\n",
    "    )\n",
    "    # observe new values\n",
    "    new_x = unnormalize(candidates.detach(), bounds=problem.bounds)\n",
    "    new_obj_true = problem(new_x)\n",
    "    #new_obj = new_obj_true + torch.randn_like(new_obj_true) * NOISE_SE\n",
    "    return new_x, new_obj_true"
   ]
  },
  {
   "cell_type": "code",
   "execution_count": 13,
   "id": "918211a1-7aa1-4966-a5c8-e3ddc98c305e",
   "metadata": {},
   "outputs": [
    {
     "name": "stdout",
     "output_type": "stream",
     "text": [
      "-------------------\n"
     ]
    },
    {
     "ename": "ValueError",
     "evalue": "Expected the lengths of all arguments to be equal. Got lengths [2, 1] for args [ModuleList(\n  (0-1): 2 x SingleTaskGP(\n    (likelihood): GaussianLikelihood(\n      (noise_covar): HomoskedasticNoise(\n        (noise_prior): GammaPrior()\n        (raw_noise_constraint): GreaterThan(1.000E-04)\n      )\n    )\n    (mean_module): ConstantMean()\n    (covar_module): ScaleKernel(\n      (base_kernel): RBFKernel(\n        (raw_lengthscale_constraint): Positive()\n      )\n      (raw_outputscale_constraint): Positive()\n    )\n    (outcome_transform): Standardize()\n    (input_transform): ChainedInputTransform(\n      (tf1): NormalizeFeatures()\n      (tf2): NormalizeElementFractions()\n    )\n  )\n), [[tensor([[0.1111, 0.0000, 0.0000,  ..., 0.0000, 0.0000, 0.0000],\n        [0.1111, 0.0000, 0.0000,  ..., 0.0000, 0.0000, 0.0000],\n        [0.1111, 0.0000, 0.0000,  ..., 0.0000, 0.0000, 0.0000],\n        ...,\n        [0.1429, 0.0000, 0.0000,  ..., 0.0000, 0.0000, 0.0000],\n        [0.1429, 0.0000, 0.0000,  ..., 0.0000, 0.0000, 0.0000],\n        [0.1429, 0.0000, 0.0000,  ..., 0.0000, 0.0000, 0.0000]],\n       dtype=torch.float64), tensor([[0.1111, 0.0000, 0.0000,  ..., 0.0000, 0.0000, 0.0000],\n        [0.1111, 0.0000, 0.0000,  ..., 0.0000, 0.0000, 0.0000],\n        [0.1111, 0.0000, 0.0000,  ..., 0.0000, 0.0000, 0.0000],\n        ...,\n        [0.1429, 0.0000, 0.0000,  ..., 0.0000, 0.0000, 0.0000],\n        [0.1429, 0.0000, 0.0000,  ..., 0.0000, 0.0000, 0.0000],\n        [0.1429, 0.0000, 0.0000,  ..., 0.0000, 0.0000, 0.0000]],\n       dtype=torch.float64)]]]. Did you pass in fewer inputs than expected?",
     "output_type": "error",
     "traceback": [
      "\u001b[0;31m---------------------------------------------------------------------------\u001b[0m",
      "\u001b[0;31mValueError\u001b[0m                                Traceback (most recent call last)",
      "Cell \u001b[0;32mIn[13], line 57\u001b[0m\n\u001b[1;32m     54\u001b[0m t0 \u001b[38;5;241m=\u001b[39m time\u001b[38;5;241m.\u001b[39mmonotonic()\n\u001b[1;32m     56\u001b[0m \u001b[38;5;66;03m# fit the models\u001b[39;00m\n\u001b[0;32m---> 57\u001b[0m \u001b[43mtrain_model\u001b[49m\u001b[43m(\u001b[49m\u001b[43mmodel_qparego\u001b[49m\u001b[43m,\u001b[49m\u001b[43m \u001b[49m\u001b[43mmll_qparego\u001b[49m\u001b[43m)\u001b[49m\n\u001b[1;32m     58\u001b[0m train_model(model_qehvi, mll_qehvi)\n\u001b[1;32m     59\u001b[0m train_model(model_qnehvi, mll_qnehvi)\n",
      "Cell \u001b[0;32mIn[7], line 9\u001b[0m, in \u001b[0;36mtrain_model\u001b[0;34m(model, mll)\u001b[0m\n\u001b[1;32m      6\u001b[0m optimizer_kwargs \u001b[38;5;241m=\u001b[39m {\u001b[38;5;124m'\u001b[39m\u001b[38;5;124mlr\u001b[39m\u001b[38;5;124m'\u001b[39m: \u001b[38;5;241m5e-2\u001b[39m, \u001b[38;5;124m'\u001b[39m\u001b[38;5;124mweight_decay\u001b[39m\u001b[38;5;124m'\u001b[39m: \u001b[38;5;241m1e-4\u001b[39m}\n\u001b[1;32m      7\u001b[0m \u001b[38;5;66;03m#print(f\"Training {model_name}\")\u001b[39;00m\n\u001b[1;32m      8\u001b[0m \u001b[38;5;66;03m#surrogate_model.model.train()\u001b[39;00m\n\u001b[0;32m----> 9\u001b[0m \u001b[43mtrainGPList\u001b[49m\u001b[43m(\u001b[49m\u001b[43mmodel\u001b[49m\u001b[43m,\u001b[49m\n\u001b[1;32m     10\u001b[0m \u001b[43m            \u001b[49m\u001b[43mmll\u001b[49m\u001b[43m \u001b[49m\u001b[38;5;241;43m=\u001b[39;49m\u001b[43m \u001b[49m\u001b[43mmll\u001b[49m\u001b[43m,\u001b[49m\u001b[43m \u001b[49m\n\u001b[1;32m     11\u001b[0m \u001b[43m            \u001b[49m\u001b[43moptimizer\u001b[49m\u001b[43m \u001b[49m\u001b[38;5;241;43m=\u001b[39;49m\u001b[43m \u001b[49m\u001b[43mSGD\u001b[49m\u001b[43m(\u001b[49m\u001b[43m[\u001b[49m\u001b[43m{\u001b[49m\u001b[38;5;124;43m'\u001b[39;49m\u001b[38;5;124;43mparams\u001b[39;49m\u001b[38;5;124;43m'\u001b[39;49m\u001b[43m:\u001b[49m\u001b[43m \u001b[49m\u001b[43mmodel\u001b[49m\u001b[38;5;241;43m.\u001b[39;49m\u001b[43mparameters\u001b[49m\u001b[43m(\u001b[49m\u001b[43m)\u001b[49m\u001b[43m}\u001b[49m\u001b[43m]\u001b[49m\u001b[43m,\u001b[49m\u001b[43m \u001b[49m\u001b[38;5;241;43m*\u001b[39;49m\u001b[38;5;241;43m*\u001b[39;49m\u001b[43moptimizer_kwargs\u001b[49m\u001b[43m)\u001b[49m\u001b[43m,\u001b[49m\n\u001b[1;32m     12\u001b[0m \u001b[43m            \u001b[49m\u001b[43mnum_epochs\u001b[49m\u001b[38;5;241;43m=\u001b[39;49m\u001b[38;5;241;43m600\u001b[39;49m\u001b[43m,\u001b[49m\n\u001b[1;32m     13\u001b[0m \u001b[43m            \u001b[49m\u001b[43mprint_interval\u001b[49m\u001b[43m \u001b[49m\u001b[38;5;241;43m=\u001b[39;49m\u001b[43m \u001b[49m\u001b[38;5;241;43m100\u001b[39;49m\u001b[43m \u001b[49m\n\u001b[1;32m     14\u001b[0m \u001b[43m       \u001b[49m\u001b[43m)\u001b[49m\n\u001b[1;32m     15\u001b[0m \u001b[38;5;28mprint\u001b[39m(\u001b[38;5;124m\"\u001b[39m\u001b[38;5;124m-------------------\u001b[39m\u001b[38;5;124m\"\u001b[39m)\n",
      "File \u001b[0;32m~/software/Fe_alloy_phaseshift/utils/model.py:43\u001b[0m, in \u001b[0;36mtrainGPList\u001b[0;34m(model, mll, optimizer, num_epochs, print_interval)\u001b[0m\n\u001b[1;32m     41\u001b[0m optimizer\u001b[38;5;241m.\u001b[39mzero_grad()\n\u001b[1;32m     42\u001b[0m \u001b[38;5;66;03m# forward pass through the model to obtain the output MultivariateNormal\u001b[39;00m\n\u001b[0;32m---> 43\u001b[0m output \u001b[38;5;241m=\u001b[39m \u001b[43mmodel\u001b[49m\u001b[43m(\u001b[49m\u001b[43m[\u001b[49m\u001b[43mX\u001b[49m\u001b[43m[\u001b[49m\u001b[38;5;241;43m0\u001b[39;49m\u001b[43m]\u001b[49m\u001b[43m \u001b[49m\u001b[38;5;28;43;01mfor\u001b[39;49;00m\u001b[43m \u001b[49m\u001b[43mX\u001b[49m\u001b[43m \u001b[49m\u001b[38;5;129;43;01min\u001b[39;49;00m\u001b[43m \u001b[49m\u001b[43mmodel\u001b[49m\u001b[38;5;241;43m.\u001b[39;49m\u001b[43mtrain_inputs\u001b[49m\u001b[43m]\u001b[49m\u001b[43m)\u001b[49m\n\u001b[1;32m     44\u001b[0m \u001b[38;5;66;03m# Compute negative marginal log likelihood\u001b[39;00m\n\u001b[1;32m     45\u001b[0m \u001b[38;5;28;01mtry\u001b[39;00m:\n",
      "File \u001b[0;32m~/miniconda3/envs/matminer-phaseshift/lib/python3.10/site-packages/gpytorch/models/model_list.py:80\u001b[0m, in \u001b[0;36mIndependentModelList.__call__\u001b[0;34m(self, *args, **kwargs)\u001b[0m\n\u001b[1;32m     78\u001b[0m \u001b[38;5;28;01mdef\u001b[39;00m \u001b[38;5;21m__call__\u001b[39m(\u001b[38;5;28mself\u001b[39m, \u001b[38;5;241m*\u001b[39margs, \u001b[38;5;241m*\u001b[39m\u001b[38;5;241m*\u001b[39mkwargs):\n\u001b[1;32m     79\u001b[0m     \u001b[38;5;28;01mreturn\u001b[39;00m [\n\u001b[0;32m---> 80\u001b[0m         model\u001b[38;5;241m.\u001b[39m\u001b[38;5;21m__call__\u001b[39m(\u001b[38;5;241m*\u001b[39margs_, \u001b[38;5;241m*\u001b[39m\u001b[38;5;241m*\u001b[39mkwargs) \u001b[38;5;28;01mfor\u001b[39;00m model, args_ \u001b[38;5;129;01min\u001b[39;00m \u001b[43mlength_safe_zip\u001b[49m\u001b[43m(\u001b[49m\u001b[38;5;28;43mself\u001b[39;49m\u001b[38;5;241;43m.\u001b[39;49m\u001b[43mmodels\u001b[49m\u001b[43m,\u001b[49m\u001b[43m \u001b[49m\u001b[43m_get_tensor_args\u001b[49m\u001b[43m(\u001b[49m\u001b[38;5;241;43m*\u001b[39;49m\u001b[43margs\u001b[49m\u001b[43m)\u001b[49m\u001b[43m)\u001b[49m\n\u001b[1;32m     81\u001b[0m     ]\n",
      "File \u001b[0;32m~/miniconda3/envs/matminer-phaseshift/lib/python3.10/site-packages/gpytorch/utils/generic.py:12\u001b[0m, in \u001b[0;36mlength_safe_zip\u001b[0;34m(*args)\u001b[0m\n\u001b[1;32m     10\u001b[0m args \u001b[38;5;241m=\u001b[39m [a \u001b[38;5;28;01mif\u001b[39;00m \u001b[38;5;28mhasattr\u001b[39m(a, \u001b[38;5;124m\"\u001b[39m\u001b[38;5;124m__len__\u001b[39m\u001b[38;5;124m\"\u001b[39m) \u001b[38;5;28;01melse\u001b[39;00m \u001b[38;5;28mlist\u001b[39m(a) \u001b[38;5;28;01mfor\u001b[39;00m a \u001b[38;5;129;01min\u001b[39;00m args]\n\u001b[1;32m     11\u001b[0m \u001b[38;5;28;01mif\u001b[39;00m \u001b[38;5;28mlen\u001b[39m({\u001b[38;5;28mlen\u001b[39m(a) \u001b[38;5;28;01mfor\u001b[39;00m a \u001b[38;5;129;01min\u001b[39;00m args}) \u001b[38;5;241m>\u001b[39m \u001b[38;5;241m1\u001b[39m:\n\u001b[0;32m---> 12\u001b[0m     \u001b[38;5;28;01mraise\u001b[39;00m \u001b[38;5;167;01mValueError\u001b[39;00m(\n\u001b[1;32m     13\u001b[0m         \u001b[38;5;124m\"\u001b[39m\u001b[38;5;124mExpected the lengths of all arguments to be equal. Got lengths \u001b[39m\u001b[38;5;124m\"\u001b[39m\n\u001b[1;32m     14\u001b[0m         \u001b[38;5;124mf\u001b[39m\u001b[38;5;124m\"\u001b[39m\u001b[38;5;132;01m{\u001b[39;00m[\u001b[38;5;28mlen\u001b[39m(a)\u001b[38;5;250m \u001b[39m\u001b[38;5;28;01mfor\u001b[39;00m\u001b[38;5;250m \u001b[39ma\u001b[38;5;250m \u001b[39m\u001b[38;5;129;01min\u001b[39;00m\u001b[38;5;250m \u001b[39margs]\u001b[38;5;132;01m}\u001b[39;00m\u001b[38;5;124m for args \u001b[39m\u001b[38;5;132;01m{\u001b[39;00margs\u001b[38;5;132;01m}\u001b[39;00m\u001b[38;5;124m. Did you pass in \u001b[39m\u001b[38;5;124m\"\u001b[39m\n\u001b[1;32m     15\u001b[0m         \u001b[38;5;124m\"\u001b[39m\u001b[38;5;124mfewer inputs than expected?\u001b[39m\u001b[38;5;124m\"\u001b[39m\n\u001b[1;32m     16\u001b[0m     )\n\u001b[1;32m     17\u001b[0m \u001b[38;5;28;01mreturn\u001b[39;00m \u001b[38;5;28mzip\u001b[39m(\u001b[38;5;241m*\u001b[39margs)\n",
      "\u001b[0;31mValueError\u001b[0m: Expected the lengths of all arguments to be equal. Got lengths [2, 1] for args [ModuleList(\n  (0-1): 2 x SingleTaskGP(\n    (likelihood): GaussianLikelihood(\n      (noise_covar): HomoskedasticNoise(\n        (noise_prior): GammaPrior()\n        (raw_noise_constraint): GreaterThan(1.000E-04)\n      )\n    )\n    (mean_module): ConstantMean()\n    (covar_module): ScaleKernel(\n      (base_kernel): RBFKernel(\n        (raw_lengthscale_constraint): Positive()\n      )\n      (raw_outputscale_constraint): Positive()\n    )\n    (outcome_transform): Standardize()\n    (input_transform): ChainedInputTransform(\n      (tf1): NormalizeFeatures()\n      (tf2): NormalizeElementFractions()\n    )\n  )\n), [[tensor([[0.1111, 0.0000, 0.0000,  ..., 0.0000, 0.0000, 0.0000],\n        [0.1111, 0.0000, 0.0000,  ..., 0.0000, 0.0000, 0.0000],\n        [0.1111, 0.0000, 0.0000,  ..., 0.0000, 0.0000, 0.0000],\n        ...,\n        [0.1429, 0.0000, 0.0000,  ..., 0.0000, 0.0000, 0.0000],\n        [0.1429, 0.0000, 0.0000,  ..., 0.0000, 0.0000, 0.0000],\n        [0.1429, 0.0000, 0.0000,  ..., 0.0000, 0.0000, 0.0000]],\n       dtype=torch.float64), tensor([[0.1111, 0.0000, 0.0000,  ..., 0.0000, 0.0000, 0.0000],\n        [0.1111, 0.0000, 0.0000,  ..., 0.0000, 0.0000, 0.0000],\n        [0.1111, 0.0000, 0.0000,  ..., 0.0000, 0.0000, 0.0000],\n        ...,\n        [0.1429, 0.0000, 0.0000,  ..., 0.0000, 0.0000, 0.0000],\n        [0.1429, 0.0000, 0.0000,  ..., 0.0000, 0.0000, 0.0000],\n        [0.1429, 0.0000, 0.0000,  ..., 0.0000, 0.0000, 0.0000]],\n       dtype=torch.float64)]]]. Did you pass in fewer inputs than expected?"
     ]
    }
   ],
   "source": [
    "import time\n",
    "import warnings\n",
    "\n",
    "from botorch import fit_gpytorch_mll\n",
    "from botorch.exceptions import BadInitialCandidatesWarning\n",
    "from botorch.sampling.normal import SobolQMCNormalSampler\n",
    "from botorch.utils.multi_objective.box_decompositions.dominated import (\n",
    "    DominatedPartitioning,\n",
    ")\n",
    "from botorch.utils.multi_objective.pareto import is_non_dominated\n",
    "\n",
    "\n",
    "warnings.filterwarnings(\"ignore\", category=BadInitialCandidatesWarning)\n",
    "warnings.filterwarnings(\"ignore\", category=RuntimeWarning)\n",
    "\n",
    "N_BATCH = 20 if not SMOKE_TEST else 5\n",
    "MC_SAMPLES = 128 if not SMOKE_TEST else 16\n",
    "\n",
    "verbose = True\n",
    "\n",
    "hvs_qparego, hvs_qehvi, hvs_qnehvi, hvs_random = [], [], [], []\n",
    "\n",
    "# call helper functions to generate initial training data and initialize model\n",
    "train_x_qparego, train_obj_true_qparego = generate_initial_data(surrogates)\n",
    "mll_qparego, model_qparego = initialize_model(train_x_qparego, train_obj_true_qparego)\n",
    "\n",
    "train_x_qehvi, train_obj_true_qehvi = (\n",
    "    train_x_qparego,\n",
    "    train_obj_true_qparego,\n",
    ")\n",
    "train_x_qnehvi, train_obj_true_qnehvi = (\n",
    "    train_x_qparego,\n",
    "    train_obj_true_qparego,\n",
    ")\n",
    "# train_x_random, train_obj_true_random = (\n",
    "#     train_x_qparego,\n",
    "#     train_obj_true_qparego,\n",
    "# )\n",
    "mll_qehvi, model_qehvi = initialize_model(train_x_qehvi, train_obj_true_qehvi)\n",
    "mll_qnehvi, model_qnehvi = initialize_model(train_x_qnehvi, train_obj_true_qnehvi)\n",
    "\n",
    "# compute hypervolume\n",
    "bd = DominatedPartitioning(ref_point=ref_point, Y=train_obj_true_qparego)\n",
    "volume = bd.compute_hypervolume().item()\n",
    "\n",
    "hvs_qparego.append(volume)\n",
    "hvs_qehvi.append(volume)\n",
    "hvs_qnehvi.append(volume)\n",
    "#hvs_random.append(volume)\n",
    "\n",
    "# run N_BATCH rounds of BayesOpt after the initial random batch\n",
    "for iteration in range(1, N_BATCH + 1):\n",
    "\n",
    "    t0 = time.monotonic()\n",
    "\n",
    "    # fit the models\n",
    "    train_model(model_qparego, mll_qparego)\n",
    "    train_model(model_qehvi, mll_qehvi)\n",
    "    train_model(model_qnehvi, mll_qnehvi)\n",
    "\n",
    "    # define the qEI and qNEI acquisition modules using a QMC sampler\n",
    "    qparego_sampler = SobolQMCNormalSampler(sample_shape=torch.Size([MC_SAMPLES]))\n",
    "    qehvi_sampler = SobolQMCNormalSampler(sample_shape=torch.Size([MC_SAMPLES]))\n",
    "    qnehvi_sampler = SobolQMCNormalSampler(sample_shape=torch.Size([MC_SAMPLES]))\n",
    "\n",
    "    # optimize acquisition functions and get new observations\n",
    "    new_x_qparego, new_obj_true_qparego = optimize_qnparego_and_get_observation(\n",
    "        model_qparego, train_x_qparego, train_obj_true_qparego, qparego_sampler\n",
    "    )\n",
    "    new_x_qehvi, new_obj_true_qehvi = optimize_qehvi_and_get_observation(\n",
    "        model_qehvi, train_x_qehvi, train_obj_true_qehvi, qehvi_sampler\n",
    "    )\n",
    "    new_x_qnehvi, new_obj_true_qnehvi = optimize_qnehvi_and_get_observation(\n",
    "        model_qnehvi, train_x_qnehvi, train_true_obj_qnehvi, qnehvi_sampler\n",
    "    )\n",
    "    # new_x_random, new_obj_random, new_obj_true_random = generate_initial_data(\n",
    "    #     n=BATCH_SIZE\n",
    "    # )\n",
    "\n",
    "    # update training points\n",
    "    train_x_qparego = torch.cat([train_x_qparego, new_x_qparego])\n",
    "    train_obj_true_qparego = torch.cat([train_obj_true_qparego, new_obj_true_qparego])\n",
    "\n",
    "    train_x_qehvi = torch.cat([train_x_qehvi, new_x_qehvi])\n",
    "    train_obj_true_qehvi = torch.cat([train_obj_true_qehvi, new_obj_true_qehvi])\n",
    "\n",
    "    train_x_qnehvi = torch.cat([train_x_qnehvi, new_x_qnehvi])\n",
    "    train_obj_true_qnehvi = torch.cat([train_obj_true_qnehvi, new_obj_true_qnehvi])\n",
    "\n",
    "    train_x_random = torch.cat([train_x_random, new_x_random])\n",
    "    train_obj_true_random = torch.cat([train_obj_true_random, new_obj_true_random])\n",
    "\n",
    "    # update progress\n",
    "    for hvs_list, train_obj in zip(\n",
    "        (hvs_random, hvs_qparego, hvs_qehvi, hvs_qnehvi),\n",
    "        (\n",
    "            #train_obj_true_random,\n",
    "            train_obj_true_qparego,\n",
    "            train_obj_true_qehvi,\n",
    "            train_obj_true_qnehvi,\n",
    "        ),\n",
    "    ):\n",
    "        # compute hypervolume\n",
    "        bd = DominatedPartitioning(ref_point=ref_point, Y=train_obj)\n",
    "        volume = bd.compute_hypervolume().item()\n",
    "        hvs_list.append(volume)\n",
    "\n",
    "    # reinitialize the models so they are ready for fitting on next iteration\n",
    "    # Note: we find improved performance from not warm starting the model hyperparameters\n",
    "    # using the hyperparameters from the previous iteration\n",
    "    mll_qparego, model_qparego = initialize_model(train_x_qparego, train_obj_qparego)\n",
    "    mll_qehvi, model_qehvi = initialize_model(train_x_qehvi, train_obj_qehvi)\n",
    "    mll_qnehvi, model_qnehvi = initialize_model(train_x_qnehvi, train_obj_qnehvi)\n",
    "\n",
    "    t1 = time.monotonic()\n",
    "\n",
    "    if verbose:\n",
    "        print(\n",
    "            f\"\\nBatch {iteration:>2}: Hypervolume (random, qNParEGO, qEHVI, qNEHVI) = \"\n",
    "            f\"({hvs_random[-1]:>4.2f}, {hvs_qparego[-1]:>4.2f}, {hvs_qehvi[-1]:>4.2f}, {hvs_qnehvi[-1]:>4.2f}), \"\n",
    "            f\"time = {t1-t0:>4.2f}.\",\n",
    "            end=\"\",\n",
    "        )\n",
    "    else:\n",
    "        print(\".\", end=\"\")"
   ]
  },
  {
   "cell_type": "code",
   "execution_count": 16,
   "id": "a6661547-1154-46be-913c-1fdf7b2637f3",
   "metadata": {},
   "outputs": [
    {
     "data": {
      "text/plain": [
       "torch.Size([514, 104, 2])"
      ]
     },
     "execution_count": 16,
     "metadata": {},
     "output_type": "execute_result"
    }
   ],
   "source": [
    "train_x_qehvi.shape"
   ]
  },
  {
   "cell_type": "code",
   "execution_count": 18,
   "id": "40e4eab1-2db6-49df-b244-c6cdabea15be",
   "metadata": {},
   "outputs": [
    {
     "data": {
      "text/plain": [
       "torch.Size([514, 104])"
      ]
     },
     "execution_count": 18,
     "metadata": {},
     "output_type": "execute_result"
    }
   ],
   "source": [
    "model_qehvi.train_inputs[0][0].shape\n"
   ]
  },
  {
   "cell_type": "code",
   "execution_count": null,
   "id": "6cf846a0-988e-4607-8fd6-9f58e16aabca",
   "metadata": {},
   "outputs": [],
   "source": [
    "def generate_initial_data(surrogates):\n",
    "    from utils.model import evaluateGP\n",
    "    X = np.concatenate([surrogate.X for surrogate in surrogates],axis=0)\n",
    "    y = [evaluateGP(surrogate.model, X) for surrogate in surrogates][0]\n",
    "    X = torch.tensor(X, **tkwargs)\n",
    "    y = [torch.tensor(array, **tkwargs) for array in y]\n",
    "    X = torch.stack((X, X),dim=-1)\n",
    "    y = torch.stack(y,dim=-1)\n",
    "    \n",
    "    return X, y"
   ]
  },
  {
   "cell_type": "code",
   "execution_count": null,
   "id": "9c792629-dd88-4dda-9de0-1cf8f0601639",
   "metadata": {},
   "outputs": [],
   "source": [
    "from utils.model import evaluateGP\n",
    "X = []\n",
    "X = np.concatenate([surrogate.X for surrogate in surrogates],axis=0)\n",
    "y = [evaluateGP(surrogate.model, X) for surrogate in surrogates][0]"
   ]
  },
  {
   "cell_type": "code",
   "execution_count": null,
   "id": "94036f16-f17d-4964-a2c6-ea794bfeb101",
   "metadata": {},
   "outputs": [],
   "source": []
  },
  {
   "cell_type": "code",
   "execution_count": null,
   "id": "2dc9dacf-5fe8-4b18-83e9-38fa605579f0",
   "metadata": {},
   "outputs": [],
   "source": []
  },
  {
   "cell_type": "code",
   "execution_count": null,
   "id": "361ded72-8f07-472a-b628-8f8a0ca33922",
   "metadata": {},
   "outputs": [],
   "source": []
  },
  {
   "cell_type": "code",
   "execution_count": null,
   "id": "e4f2c646-8c65-4e22-ab4b-97a5078d20e7",
   "metadata": {},
   "outputs": [],
   "source": [
    "a,b = generate_initial_data(surrogates)"
   ]
  },
  {
   "cell_type": "code",
   "execution_count": null,
   "id": "af5dc0a1-73cc-4292-aa75-8ff0bc045d76",
   "metadata": {},
   "outputs": [],
   "source": [
    "a.shape"
   ]
  },
  {
   "cell_type": "code",
   "execution_count": null,
   "id": "310196cd-b5e4-4aee-b66e-c8bedd6bdc9f",
   "metadata": {},
   "outputs": [],
   "source": [
    "b.shape"
   ]
  },
  {
   "cell_type": "code",
   "execution_count": null,
   "id": "0d16d025-284b-4e1b-a80c-0dcfe5450ecc",
   "metadata": {},
   "outputs": [],
   "source": [
    "X.shape"
   ]
  },
  {
   "cell_type": "code",
   "execution_count": null,
   "id": "6da9e0ca-5f79-4477-b790-1d7cabe9de0b",
   "metadata": {},
   "outputs": [],
   "source": [
    "y.sh"
   ]
  },
  {
   "cell_type": "code",
   "execution_count": null,
   "id": "d7704f20-fe88-415d-9ec5-cd6f2220e0dc",
   "metadata": {},
   "outputs": [],
   "source": []
  }
 ],
 "metadata": {
  "kernelspec": {
   "display_name": "Python 3 (ipykernel)",
   "language": "python",
   "name": "python3"
  },
  "language_info": {
   "codemirror_mode": {
    "name": "ipython",
    "version": 3
   },
   "file_extension": ".py",
   "mimetype": "text/x-python",
   "name": "python",
   "nbconvert_exporter": "python",
   "pygments_lexer": "ipython3",
   "version": "3.10.0"
  }
 },
 "nbformat": 4,
 "nbformat_minor": 5
}
