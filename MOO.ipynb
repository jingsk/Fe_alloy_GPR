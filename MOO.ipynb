{
 "cells": [
  {
   "cell_type": "code",
   "execution_count": 1,
   "id": "8bbc5e6f-315e-4a8e-9635-4e26a5d6c237",
   "metadata": {},
   "outputs": [],
   "source": [
    "import pandas as pd\n",
    "import numpy as np\n",
    "import torch\n",
    "import os\n",
    "\n",
    "dataset_path = './dataset/'\n",
    "dataset_files = ['TcData.csv' ,'BsData.csv']\n",
    "\n",
    "tkwargs = {\n",
    "    \"dtype\": torch.double,\n",
    "    \"device\": torch.device(\"cuda\" if torch.cuda.is_available() else \"cpu\"),\n",
    "}\n",
    "\n",
    "dfs = dict([])\n",
    "for file in dataset_files:\n",
    "    df = pd.read_csv(os.path.join(dataset_path,file), na_values=0)\n",
    "    df = df.rename(columns={'Composition': 'formula'})\n",
    "    df.name = file[:2]\n",
    "    dfs[df.name] = df"
   ]
  },
  {
   "cell_type": "code",
   "execution_count": 2,
   "id": "88581e59-9d8c-4764-a283-716e86b03b29",
   "metadata": {},
   "outputs": [],
   "source": [
    "from utils import add_feature\n",
    "\n",
    "load_df = True\n",
    "for df_name, df in dfs.items():\n",
    "    if load_df:\n",
    "        dfs[df_name] = pd.read_pickle(os.path.join(dataset_path, f\"./df_data_{df.name}.pkl\"))\n",
    "    else:    \n",
    "        name = df.name\n",
    "        df = add_feature.add_composition(df)\n",
    "        df = add_feature.add_element_fraction(df)\n",
    "        df.name = name\n",
    "        dfs[df_name] = df \n",
    "        df.to_pickle(os.path.join(dataset_path, f\"./df_data_{df.name}.pkl\"))"
   ]
  },
  {
   "cell_type": "code",
   "execution_count": 3,
   "id": "03d27590-f027-41a1-8dff-f559d85bcd0c",
   "metadata": {
    "scrolled": true
   },
   "outputs": [],
   "source": [
    "from utils.surrogate import surrogate_model\n",
    "\n",
    "Tc_surrogate = surrogate_model(name='Tc', df=dfs['Tc'])\n",
    "Bs_surrogate = surrogate_model(name='Bs', df=dfs['Bs'])"
   ]
  },
  {
   "cell_type": "code",
   "execution_count": 4,
   "id": "f87d0c60-d192-42af-9e4c-015e9e34a36d",
   "metadata": {},
   "outputs": [],
   "source": [
    "Tc_surrogate.cleanup_df(drop_NaN = False, drop_col_with_NaN = True)\n",
    "Bs_surrogate.cleanup_df(drop_NaN = False, drop_col_with_NaN = True)"
   ]
  },
  {
   "cell_type": "code",
   "execution_count": 5,
   "id": "0d1ed59b-35c4-4591-b22b-f770fd029c8c",
   "metadata": {},
   "outputs": [
    {
     "name": "stdout",
     "output_type": "stream",
     "text": [
      "-------------------\n",
      "Training Tc\n",
      "Epoch 100/600 - Loss: 1.407 noise: 1.259\n",
      "Epoch 200/600 - Loss: 1.225 noise: 0.547\n",
      "Epoch 300/600 - Loss: 0.730 noise: 0.104\n",
      "Epoch 400/600 - Loss: 0.681 noise: 0.090\n",
      "Epoch 500/600 - Loss: 0.678 noise: 0.089\n",
      "Epoch 600/600 - Loss: 0.676 noise: 0.089\n",
      "-------------------\n",
      "-------------------\n",
      "Training Bs\n",
      "Epoch 100/600 - Loss: 1.338 noise: 1.144\n",
      "Epoch 200/600 - Loss: 1.179 noise: 0.504\n",
      "Epoch 300/600 - Loss: 1.042 noise: 0.349\n",
      "Epoch 400/600 - Loss: 0.856 noise: 0.185\n",
      "Epoch 500/600 - Loss: 0.827 noise: 0.166\n",
      "Epoch 600/600 - Loss: 0.825 noise: 0.165\n",
      "-------------------\n"
     ]
    }
   ],
   "source": [
    "from botorch.models.gp_regression import SingleTaskGP\n",
    "from botorch.models.transforms.outcome import Standardize\n",
    "from gpytorch.mlls.sum_marginal_log_likelihood import ExactMarginalLogLikelihood\n",
    "from gpytorch.kernels import RBFKernel, ScaleKernel\n",
    "#from botorch.fit import fit_gpytorch_mll\n",
    "from torch.optim import SGD, Adam\n",
    "from botorch.models.transforms.input import ChainedInputTransform\n",
    "from utils.model import trainGP, NormalizeElementFractions, NormalizeFeatures\n",
    "from utils.model import test_features_normalized\n",
    "\n",
    "for surrogate_model in [Tc_surrogate, Bs_surrogate]:\n",
    "    surrogate_model.model = None\n",
    "    outcome_transform = Standardize(m=1)\n",
    "    normalize_other = NormalizeFeatures(indices=surrogate_model.to_scale_col)\n",
    "    normalize_EF = NormalizeElementFractions(indices=surrogate_model.EF_col)\n",
    "    input_transform = ChainedInputTransform(\n",
    "        tf1=normalize_other, \n",
    "        tf2=normalize_EF,\n",
    "    )\n",
    "    \n",
    "    surrogate_model.model = SingleTaskGP(\n",
    "        torch.tensor(surrogate_model.X), \n",
    "        torch.tensor(surrogate_model.y).unsqueeze(dim=1),\n",
    "        input_transform=input_transform,\n",
    "        outcome_transform=outcome_transform,\n",
    "        covar_module=ScaleKernel(RBFKernel()),\n",
    "    )\n",
    "    \n",
    "    print(\"-------------------\")\n",
    "\n",
    "    surrogate_model.model.train()\n",
    "    #optimizer_kwargs = {'lr': 1e-2, 'weight_decay': 1e-3}\n",
    "    optimizer_kwargs = {'lr': 5e-2, 'weight_decay': 1e-4}\n",
    "    print(f\"Training {surrogate_model.name}\")\n",
    "    #surrogate_model.model.train()\n",
    "    trainGP(surrogate_model.model,\n",
    "            mll = ExactMarginalLogLikelihood(surrogate_model.model.likelihood, surrogate_model.model), \n",
    "            optimizer = SGD([{'params': surrogate_model.model.parameters()}], **optimizer_kwargs),\n",
    "            num_epochs=600,\n",
    "            print_interval = 100 \n",
    "           )\n",
    "    print(\"-------------------\")"
   ]
  },
  {
   "cell_type": "code",
   "execution_count": 6,
   "id": "dce0cdd8-15ad-46ef-99f3-5a4d5708eb27",
   "metadata": {
    "scrolled": true
   },
   "outputs": [],
   "source": [
    "from botorch.models.model_list_gp_regression import ModelListGP\n",
    "from botorch.models.gp_regression import SingleTaskGP\n",
    "from botorch.models.transforms.outcome import Standardize\n",
    "from gpytorch.mlls.sum_marginal_log_likelihood import SumMarginalLogLikelihood\n",
    "from gpytorch.kernels import RBFKernel, ScaleKernel\n",
    "#from botorch.fit import fit_gpytorch_mll\n",
    "from botorch.models.transforms.input import ChainedInputTransform\n",
    "from utils.model import trainGP, NormalizeElementFractions, NormalizeFeatures\n",
    "from utils.model import test_features_normalized\n",
    "\n",
    "def initialize_model(train_x, train_obj):\n",
    "    \n",
    "    models = []\n",
    "    #first index goes over obj_idx\n",
    "    for i in range(train_obj.shape[-1]):\n",
    "        y = train_obj[..., i]\n",
    "        X = train_x[..., i]\n",
    "        \n",
    "        outcome_transform = Standardize(m=1)\n",
    "        normalize_other = NormalizeFeatures(indices=surrogate_model.to_scale_col)\n",
    "        normalize_EF = NormalizeElementFractions(indices=surrogate_model.EF_col)\n",
    "        input_transform = ChainedInputTransform(\n",
    "            tf1=normalize_other, \n",
    "            tf2=normalize_EF,\n",
    "        )\n",
    "        \n",
    "        model = SingleTaskGP(\n",
    "            X,\n",
    "            y, #.unsqueeze(dim=1), \n",
    "            input_transform=input_transform,\n",
    "            outcome_transform=outcome_transform,\n",
    "            covar_module=ScaleKernel(RBFKernel()),\n",
    "        )\n",
    "        models.append(model)\n",
    "    \n",
    "    model = ModelListGP(*models)\n",
    "    mll = SumMarginalLogLikelihood(model.likelihood, model)\n",
    "    return mll, model"
   ]
  },
  {
   "cell_type": "code",
   "execution_count": 7,
   "id": "aa5a17d8-b880-4b52-890e-49eeb5bd6cd1",
   "metadata": {
    "scrolled": true
   },
   "outputs": [],
   "source": [
    "#from utils.model import trainGPList\n",
    "from torch.optim import Adam, SGD\n",
    "def train_model(modelList: ModelListGP, mllList: SumMarginalLogLikelihood):\n",
    "    modelList.train()\n",
    "    #optimizer_kwargs = {'lr': 1e-2, 'weight_decay': 1e-3}\n",
    "    optimizer_kwargs = {'lr': 3e-2, 'weight_decay': 1e-3}\n",
    "    print(\"-------------------\")\n",
    "    for model, mll in zip(modelList.models, mllList.mlls):\n",
    "    #print(f\"Training {model_name}\")\n",
    "    #surrogate_model.model.train()\n",
    "        trainGP(model,\n",
    "                mll = mll, \n",
    "                optimizer = Adam([{'params': model.parameters()}], **optimizer_kwargs),\n",
    "                num_epochs=50,\n",
    "                print_interval = 25 \n",
    "               )\n",
    "        print(\"-------------------\")"
   ]
  },
  {
   "cell_type": "code",
   "execution_count": 8,
   "id": "601e69cd-6840-4519-a108-50cdb707065a",
   "metadata": {},
   "outputs": [],
   "source": [
    "SMOKE_TEST=True\n",
    "surrogates = [Tc_surrogate, Bs_surrogate]\n",
    "ref_point = torch.tensor([np.average(surrogate.y) for surrogate in surrogates],**tkwargs)"
   ]
  },
  {
   "cell_type": "code",
   "execution_count": 9,
   "id": "70b8e310-5549-41e5-a055-6ad6c37efdf7",
   "metadata": {},
   "outputs": [],
   "source": [
    "def generate_initial_data(surrogates):\n",
    "    for surrogate in surrogates:\n",
    "        try:\n",
    "            surrogate.df = surrogate.df.drop(['formula', 'composition', surrogate.label],axis=1)\n",
    "        except KeyError:\n",
    "            pass\n",
    "        \n",
    "\n",
    "    total_df = pd.concat([surrogate.df for surrogate in surrogates])\n",
    "    empty_col = total_df.columns[[not total_df[col].any() for col in total_df.columns]]\n",
    "    total_df = total_df.drop(empty_col,axis=1)\n",
    "\n",
    "    \n",
    "    \n",
    "    from utils.model import evaluateGP\n",
    "    X = np.concatenate([surrogate.X for surrogate in surrogates],axis=0)\n",
    "    y = [evaluateGP(surrogate.model, X) for surrogate in surrogates][0]\n",
    "    X = torch.tensor(X, **tkwargs)\n",
    "    y = [torch.tensor(array, **tkwargs) for array in y]\n",
    "    X = torch.stack((X, X),dim=-1)\n",
    "    y = torch.stack(y,dim=-1).unsqueeze(dim=1)\n",
    "    \n",
    "    return X, y, total_df"
   ]
  },
  {
   "cell_type": "code",
   "execution_count": 57,
   "id": "30052cb1-edf2-4414-9cf9-e0e8535617d0",
   "metadata": {},
   "outputs": [],
   "source": [
    "from botorch.optim.optimize import optimize_acqf, optimize_acqf_list\n",
    "from botorch.acquisition.objective import GenericMCObjective\n",
    "from botorch.utils.multi_objective.scalarization import get_chebyshev_scalarization\n",
    "from botorch.utils.multi_objective.box_decompositions.non_dominated import (\n",
    "    FastNondominatedPartitioning,\n",
    ")\n",
    "from botorch.acquisition.multi_objective.monte_carlo import (\n",
    "    qExpectedHypervolumeImprovement,\n",
    "    qNoisyExpectedHypervolumeImprovement,\n",
    ")\n",
    "from botorch.utils.sampling import sample_simplex\n",
    "from botorch.utils.transforms import unnormalize, normalize\n",
    "\n",
    "\n",
    "BATCH_SIZE = 4\n",
    "NUM_RESTARTS = 10 if not SMOKE_TEST else 2\n",
    "RAW_SAMPLES = 512 if not SMOKE_TEST else 4\n",
    "\n",
    "standard_bounds = torch.zeros(2, 2, **tkwargs)\n",
    "standard_bounds[:,1] = 1\n",
    "bounds = torch.zeros(104, 2, **tkwargs)\n",
    "bounds[:,1] = 1\n",
    "\n",
    "\n",
    "\n",
    "def optimize_qehvi_and_get_observation(model, train_x, train_obj, sampler):\n",
    "    \"\"\"Optimizes the qEHVI acquisition function, and returns a new candidate and observation.\"\"\"\n",
    "    # partition non-dominated space into disjoint rectangles\n",
    "    with torch.no_grad():\n",
    "        #pred = model.posterior(normalize(train_x, bounds)).mean\n",
    "        pred = torch.concatenate([model.posterior(train_x[:,:,i]).mean for i, model in enumerate(model_qparego.models)],dim=-1)\n",
    "    partitioning = FastNondominatedPartitioning(\n",
    "        ref_point=ref_point,\n",
    "        Y=pred,\n",
    "    )\n",
    "    acq_func = qExpectedHypervolumeImprovement(\n",
    "        model=model,\n",
    "        ref_point=ref_point,\n",
    "        partitioning=partitioning,\n",
    "        sampler=sampler,\n",
    "    )\n",
    "    # optimize\n",
    "    candidates, _ = optimize_acqf(\n",
    "        acq_function=acq_func,\n",
    "        bounds=standard_bounds,\n",
    "        q=BATCH_SIZE,\n",
    "        num_restarts=NUM_RESTARTS,\n",
    "        raw_samples=RAW_SAMPLES,  # used for intialization heuristic\n",
    "        options={\"batch_limit\": 5, \"maxiter\": 200},\n",
    "        sequential=True,\n",
    "    )\n",
    "    # observe new values\n",
    "    new_x = unnormalize(candidates.detach(), bounds=bounds)\n",
    "    new_obj_true = problem(new_x)\n",
    "    #new_obj = new_obj_true + torch.randn_like(new_obj_true) * NOISE_SE\n",
    "    return new_x, new_obj_true"
   ]
  },
  {
   "cell_type": "code",
   "execution_count": 11,
   "id": "1c24f726-7f97-4548-91de-54fad1991071",
   "metadata": {},
   "outputs": [],
   "source": [
    "def optimize_qnehvi_and_get_observation(model, train_x, train_obj, sampler):\n",
    "    \"\"\"Optimizes the qEHVI acquisition function, and returns a new candidate and observation.\"\"\"\n",
    "    # partition non-dominated space into disjoint rectangles\n",
    "    acq_func = qNoisyExpectedHypervolumeImprovement(\n",
    "        model=model,\n",
    "        ref_point=ref_point.tolist(),  # use known reference point\n",
    "        X_baseline=normalize(train_x, bounds),\n",
    "        prune_baseline=True,  # prune baseline points that have estimated zero probability of being Pareto optimal\n",
    "        sampler=sampler,\n",
    "    )\n",
    "    # optimize\n",
    "    candidates, _ = optimize_acqf(\n",
    "        acq_function=acq_func,\n",
    "        bounds=standard_bounds,\n",
    "        q=BATCH_SIZE,\n",
    "        num_restarts=NUM_RESTARTS,\n",
    "        raw_samples=RAW_SAMPLES,  # used for intialization heuristic\n",
    "        options={\"batch_limit\": 5, \"maxiter\": 200},\n",
    "        sequential=True,\n",
    "    )\n",
    "    # observe new values\n",
    "    new_x = unnormalize(candidates.detach(), bounds=bounds)\n",
    "    new_obj_true = problem(new_x)\n",
    "    #new_obj = new_obj_true + torch.randn_like(new_obj_true) * NOISE_SE\n",
    "    return new_x, new_obj_true"
   ]
  },
  {
   "cell_type": "code",
   "execution_count": 45,
   "id": "f4aa6d97-56e9-4399-886d-98f2909490b2",
   "metadata": {},
   "outputs": [],
   "source": [
    "from botorch.acquisition.monte_carlo import qNoisyExpectedImprovement\n",
    "\n",
    "\n",
    "def optimize_qnparego_and_get_observation(model, train_x, train_obj, sampler):\n",
    "    \"\"\"Samples a set of random weights for each candidate in the batch, performs sequential greedy optimization\n",
    "    of the qNParEGO acquisition function, and returns a new candidate and observation.\"\"\"\n",
    "    train_x = normalize(train_x, bounds)\n",
    "    with torch.no_grad():\n",
    "        #pred = model.posterior(train_x).mean\n",
    "        pred = torch.concatenate([model.posterior(train_x[:,:,i]).mean for i, model in enumerate(model_qparego.models)],dim=-1)\n",
    "    acq_func_list = []\n",
    "    for _ in range(BATCH_SIZE):\n",
    "        weights = sample_simplex(2, **tkwargs).squeeze()\n",
    "        objective = GenericMCObjective(\n",
    "            get_chebyshev_scalarization(weights=weights, Y=pred)\n",
    "        )\n",
    "        acq_func = qNoisyExpectedImprovement(  # pyre-ignore: [28]\n",
    "            model=model,\n",
    "            objective=objective,\n",
    "            X_baseline=train_x,\n",
    "            sampler=sampler,\n",
    "            prune_baseline=True,\n",
    "        )\n",
    "        acq_func_list.append(acq_func)\n",
    "    # optimize\n",
    "    candidates, _ = optimize_acqf_list(\n",
    "        acq_function_list=acq_func_list,\n",
    "        bounds=standard_bounds,\n",
    "        num_restarts=NUM_RESTARTS,\n",
    "        raw_samples=RAW_SAMPLES,  # used for intialization heuristic\n",
    "        options={\"batch_limit\": 5, \"maxiter\": 200},\n",
    "    )\n",
    "    # observe new values\n",
    "    new_x = unnormalize(candidates.detach(), bounds=bounds)\n",
    "    new_obj_true = problem(new_x)\n",
    "    #new_obj = new_obj_true + torch.randn_like(new_obj_true) * NOISE_SE\n",
    "    return new_x, new_obj_true"
   ]
  },
  {
   "cell_type": "code",
   "execution_count": 60,
   "id": "918211a1-7aa1-4966-a5c8-e3ddc98c305e",
   "metadata": {},
   "outputs": [
    {
     "name": "stdout",
     "output_type": "stream",
     "text": [
      "torch.Size([220, 104])\n",
      "torch.Size([514, 104])\n",
      "torch.Size([294, 104])\n",
      "torch.Size([514, 104])\n",
      "-------------------\n",
      "Epoch  25/50 - Loss: 1.297 noise: 1.261\n",
      "Epoch  50/50 - Loss: 0.609 noise: 0.313\n",
      "-------------------\n",
      "Epoch  25/50 - Loss: 1.269 noise: 1.262\n",
      "Epoch  50/50 - Loss: 0.618 noise: 0.321\n",
      "-------------------\n",
      "-------------------\n",
      "Epoch  25/50 - Loss: 1.297 noise: 1.261\n",
      "Epoch  50/50 - Loss: 0.609 noise: 0.313\n",
      "-------------------\n",
      "Epoch  25/50 - Loss: 1.269 noise: 1.262\n",
      "Epoch  50/50 - Loss: 0.618 noise: 0.321\n",
      "-------------------\n",
      "-------------------\n",
      "Epoch  25/50 - Loss: 1.297 noise: 1.261\n",
      "Epoch  50/50 - Loss: 0.609 noise: 0.313\n",
      "-------------------\n",
      "Epoch  25/50 - Loss: 1.269 noise: 1.262\n",
      "Epoch  50/50 - Loss: 0.618 noise: 0.321\n",
      "-------------------\n"
     ]
    },
    {
     "name": "stderr",
     "output_type": "stream",
     "text": [
      "/Users/jingsk/miniconda3/envs/matminer-phaseshift/lib/python3.10/site-packages/botorch/acquisition/multi_objective/monte_carlo.py:413: NumericsWarning: qNoisyExpectedHypervolumeImprovement has known numerical issues that lead to suboptimal optimization performance. It is strongly recommended to simply replace\n",
      "\n",
      "\t qNoisyExpectedHypervolumeImprovement \t --> \t qLogNoisyExpectedHypervolumeImprovement \n",
      "\n",
      "instead, which fixes the issues and has the same API. See https://arxiv.org/abs/2310.20708 for details.\n",
      "  legacy_ei_numerics_warning(legacy_name=type(self).__name__)\n"
     ]
    },
    {
     "ename": "UnsupportedError",
     "evalue": "NoisyExpectedHypervolumeMixin does not support batched X_baseline. Expected 2 dims, got 3.",
     "output_type": "error",
     "traceback": [
      "\u001b[0;31m---------------------------------------------------------------------------\u001b[0m",
      "\u001b[0;31mUnsupportedError\u001b[0m                          Traceback (most recent call last)",
      "Cell \u001b[0;32mIn[60], line 73\u001b[0m\n\u001b[1;32m     64\u001b[0m qnehvi_sampler \u001b[38;5;241m=\u001b[39m SobolQMCNormalSampler(sample_shape\u001b[38;5;241m=\u001b[39mtorch\u001b[38;5;241m.\u001b[39mSize([MC_SAMPLES]))\n\u001b[1;32m     66\u001b[0m \u001b[38;5;66;03m# # optimize acquisition functions and get new observations\u001b[39;00m\n\u001b[1;32m     67\u001b[0m \u001b[38;5;66;03m# new_x_qparego, new_obj_true_qparego = optimize_qnparego_and_get_observation(\u001b[39;00m\n\u001b[1;32m     68\u001b[0m \u001b[38;5;66;03m#     model_qparego, train_x_qparego, train_obj_true_qparego, qparego_sampler\u001b[39;00m\n\u001b[0;32m   (...)\u001b[0m\n\u001b[1;32m     71\u001b[0m \u001b[38;5;66;03m#     model_qehvi, train_x_qehvi, train_obj_true_qehvi, qehvi_sampler\u001b[39;00m\n\u001b[1;32m     72\u001b[0m \u001b[38;5;66;03m# )\u001b[39;00m\n\u001b[0;32m---> 73\u001b[0m new_x_qnehvi, new_obj_true_qnehvi \u001b[38;5;241m=\u001b[39m \u001b[43moptimize_qnehvi_and_get_observation\u001b[49m\u001b[43m(\u001b[49m\n\u001b[1;32m     74\u001b[0m \u001b[43m    \u001b[49m\u001b[43mmodel_qnehvi\u001b[49m\u001b[43m,\u001b[49m\u001b[43m \u001b[49m\u001b[43mtrain_x_qnehvi\u001b[49m\u001b[43m,\u001b[49m\u001b[43m \u001b[49m\u001b[43mtrain_obj_true_qnehvi\u001b[49m\u001b[43m,\u001b[49m\u001b[43m \u001b[49m\u001b[43mqnehvi_sampler\u001b[49m\n\u001b[1;32m     75\u001b[0m \u001b[43m\u001b[49m\u001b[43m)\u001b[49m\n\u001b[1;32m     76\u001b[0m \u001b[38;5;66;03m# new_x_random, new_obj_random, new_obj_true_random = generate_initial_data(\u001b[39;00m\n\u001b[1;32m     77\u001b[0m \u001b[38;5;66;03m#     n=BATCH_SIZE\u001b[39;00m\n\u001b[1;32m     78\u001b[0m \u001b[38;5;66;03m# )\u001b[39;00m\n\u001b[1;32m     79\u001b[0m \n\u001b[1;32m     80\u001b[0m \u001b[38;5;66;03m# update training points\u001b[39;00m\n\u001b[1;32m     81\u001b[0m train_x_qparego \u001b[38;5;241m=\u001b[39m torch\u001b[38;5;241m.\u001b[39mcat([train_x_qparego, new_x_qparego])\n",
      "Cell \u001b[0;32mIn[11], line 4\u001b[0m, in \u001b[0;36moptimize_qnehvi_and_get_observation\u001b[0;34m(model, train_x, train_obj, sampler)\u001b[0m\n\u001b[1;32m      2\u001b[0m \u001b[38;5;250m\u001b[39m\u001b[38;5;124;03m\"\"\"Optimizes the qEHVI acquisition function, and returns a new candidate and observation.\"\"\"\u001b[39;00m\n\u001b[1;32m      3\u001b[0m \u001b[38;5;66;03m# partition non-dominated space into disjoint rectangles\u001b[39;00m\n\u001b[0;32m----> 4\u001b[0m acq_func \u001b[38;5;241m=\u001b[39m \u001b[43mqNoisyExpectedHypervolumeImprovement\u001b[49m\u001b[43m(\u001b[49m\n\u001b[1;32m      5\u001b[0m \u001b[43m    \u001b[49m\u001b[43mmodel\u001b[49m\u001b[38;5;241;43m=\u001b[39;49m\u001b[43mmodel\u001b[49m\u001b[43m,\u001b[49m\n\u001b[1;32m      6\u001b[0m \u001b[43m    \u001b[49m\u001b[43mref_point\u001b[49m\u001b[38;5;241;43m=\u001b[39;49m\u001b[43mref_point\u001b[49m\u001b[38;5;241;43m.\u001b[39;49m\u001b[43mtolist\u001b[49m\u001b[43m(\u001b[49m\u001b[43m)\u001b[49m\u001b[43m,\u001b[49m\u001b[43m  \u001b[49m\u001b[38;5;66;43;03m# use known reference point\u001b[39;49;00m\n\u001b[1;32m      7\u001b[0m \u001b[43m    \u001b[49m\u001b[43mX_baseline\u001b[49m\u001b[38;5;241;43m=\u001b[39;49m\u001b[43mnormalize\u001b[49m\u001b[43m(\u001b[49m\u001b[43mtrain_x\u001b[49m\u001b[43m,\u001b[49m\u001b[43m \u001b[49m\u001b[43mbounds\u001b[49m\u001b[43m)\u001b[49m\u001b[43m,\u001b[49m\n\u001b[1;32m      8\u001b[0m \u001b[43m    \u001b[49m\u001b[43mprune_baseline\u001b[49m\u001b[38;5;241;43m=\u001b[39;49m\u001b[38;5;28;43;01mTrue\u001b[39;49;00m\u001b[43m,\u001b[49m\u001b[43m  \u001b[49m\u001b[38;5;66;43;03m# prune baseline points that have estimated zero probability of being Pareto optimal\u001b[39;49;00m\n\u001b[1;32m      9\u001b[0m \u001b[43m    \u001b[49m\u001b[43msampler\u001b[49m\u001b[38;5;241;43m=\u001b[39;49m\u001b[43msampler\u001b[49m\u001b[43m,\u001b[49m\n\u001b[1;32m     10\u001b[0m \u001b[43m\u001b[49m\u001b[43m)\u001b[49m\n\u001b[1;32m     11\u001b[0m \u001b[38;5;66;03m# optimize\u001b[39;00m\n\u001b[1;32m     12\u001b[0m candidates, _ \u001b[38;5;241m=\u001b[39m optimize_acqf(\n\u001b[1;32m     13\u001b[0m     acq_function\u001b[38;5;241m=\u001b[39macq_func,\n\u001b[1;32m     14\u001b[0m     bounds\u001b[38;5;241m=\u001b[39mstandard_bounds,\n\u001b[0;32m   (...)\u001b[0m\n\u001b[1;32m     19\u001b[0m     sequential\u001b[38;5;241m=\u001b[39m\u001b[38;5;28;01mTrue\u001b[39;00m,\n\u001b[1;32m     20\u001b[0m )\n",
      "File \u001b[0;32m~/miniconda3/envs/matminer-phaseshift/lib/python3.10/site-packages/botorch/acquisition/multi_objective/monte_carlo.py:423\u001b[0m, in \u001b[0;36mqNoisyExpectedHypervolumeImprovement.__init__\u001b[0;34m(self, model, ref_point, X_baseline, sampler, objective, constraints, X_pending, eta, fat, prune_baseline, alpha, cache_pending, max_iep, incremental_nehvi, cache_root, marginalize_dim)\u001b[0m\n\u001b[1;32m    414\u001b[0m MultiObjectiveMCAcquisitionFunction\u001b[38;5;241m.\u001b[39m\u001b[38;5;21m__init__\u001b[39m(\n\u001b[1;32m    415\u001b[0m     \u001b[38;5;28mself\u001b[39m,\n\u001b[1;32m    416\u001b[0m     model\u001b[38;5;241m=\u001b[39mmodel,\n\u001b[0;32m   (...)\u001b[0m\n\u001b[1;32m    420\u001b[0m     eta\u001b[38;5;241m=\u001b[39meta,\n\u001b[1;32m    421\u001b[0m )\n\u001b[1;32m    422\u001b[0m SubsetIndexCachingMixin\u001b[38;5;241m.\u001b[39m\u001b[38;5;21m__init__\u001b[39m(\u001b[38;5;28mself\u001b[39m)\n\u001b[0;32m--> 423\u001b[0m \u001b[43mNoisyExpectedHypervolumeMixin\u001b[49m\u001b[38;5;241;43m.\u001b[39;49m\u001b[38;5;21;43m__init__\u001b[39;49m\u001b[43m(\u001b[49m\n\u001b[1;32m    424\u001b[0m \u001b[43m    \u001b[49m\u001b[38;5;28;43mself\u001b[39;49m\u001b[43m,\u001b[49m\n\u001b[1;32m    425\u001b[0m \u001b[43m    \u001b[49m\u001b[43mmodel\u001b[49m\u001b[38;5;241;43m=\u001b[39;49m\u001b[43mmodel\u001b[49m\u001b[43m,\u001b[49m\n\u001b[1;32m    426\u001b[0m \u001b[43m    \u001b[49m\u001b[43mref_point\u001b[49m\u001b[38;5;241;43m=\u001b[39;49m\u001b[43mref_point\u001b[49m\u001b[43m,\u001b[49m\n\u001b[1;32m    427\u001b[0m \u001b[43m    \u001b[49m\u001b[43mX_baseline\u001b[49m\u001b[38;5;241;43m=\u001b[39;49m\u001b[43mX_baseline\u001b[49m\u001b[43m,\u001b[49m\n\u001b[1;32m    428\u001b[0m \u001b[43m    \u001b[49m\u001b[43msampler\u001b[49m\u001b[38;5;241;43m=\u001b[39;49m\u001b[38;5;28;43mself\u001b[39;49m\u001b[38;5;241;43m.\u001b[39;49m\u001b[43msampler\u001b[49m\u001b[43m,\u001b[49m\n\u001b[1;32m    429\u001b[0m \u001b[43m    \u001b[49m\u001b[43mobjective\u001b[49m\u001b[38;5;241;43m=\u001b[39;49m\u001b[38;5;28;43mself\u001b[39;49m\u001b[38;5;241;43m.\u001b[39;49m\u001b[43mobjective\u001b[49m\u001b[43m,\u001b[49m\n\u001b[1;32m    430\u001b[0m \u001b[43m    \u001b[49m\u001b[43mconstraints\u001b[49m\u001b[38;5;241;43m=\u001b[39;49m\u001b[38;5;28;43mself\u001b[39;49m\u001b[38;5;241;43m.\u001b[39;49m\u001b[43mconstraints\u001b[49m\u001b[43m,\u001b[49m\n\u001b[1;32m    431\u001b[0m \u001b[43m    \u001b[49m\u001b[43mX_pending\u001b[49m\u001b[38;5;241;43m=\u001b[39;49m\u001b[43mX_pending\u001b[49m\u001b[43m,\u001b[49m\n\u001b[1;32m    432\u001b[0m \u001b[43m    \u001b[49m\u001b[43mprune_baseline\u001b[49m\u001b[38;5;241;43m=\u001b[39;49m\u001b[43mprune_baseline\u001b[49m\u001b[43m,\u001b[49m\n\u001b[1;32m    433\u001b[0m \u001b[43m    \u001b[49m\u001b[43malpha\u001b[49m\u001b[38;5;241;43m=\u001b[39;49m\u001b[43malpha\u001b[49m\u001b[43m,\u001b[49m\n\u001b[1;32m    434\u001b[0m \u001b[43m    \u001b[49m\u001b[43mcache_pending\u001b[49m\u001b[38;5;241;43m=\u001b[39;49m\u001b[43mcache_pending\u001b[49m\u001b[43m,\u001b[49m\n\u001b[1;32m    435\u001b[0m \u001b[43m    \u001b[49m\u001b[43mmax_iep\u001b[49m\u001b[38;5;241;43m=\u001b[39;49m\u001b[43mmax_iep\u001b[49m\u001b[43m,\u001b[49m\n\u001b[1;32m    436\u001b[0m \u001b[43m    \u001b[49m\u001b[43mincremental_nehvi\u001b[49m\u001b[38;5;241;43m=\u001b[39;49m\u001b[43mincremental_nehvi\u001b[49m\u001b[43m,\u001b[49m\n\u001b[1;32m    437\u001b[0m \u001b[43m    \u001b[49m\u001b[43mcache_root\u001b[49m\u001b[38;5;241;43m=\u001b[39;49m\u001b[43mcache_root\u001b[49m\u001b[43m,\u001b[49m\n\u001b[1;32m    438\u001b[0m \u001b[43m    \u001b[49m\u001b[43mmarginalize_dim\u001b[49m\u001b[38;5;241;43m=\u001b[39;49m\u001b[43mmarginalize_dim\u001b[49m\u001b[43m,\u001b[49m\n\u001b[1;32m    439\u001b[0m \u001b[43m\u001b[49m\u001b[43m)\u001b[49m\n\u001b[1;32m    440\u001b[0m \u001b[38;5;28mself\u001b[39m\u001b[38;5;241m.\u001b[39mfat \u001b[38;5;241m=\u001b[39m fat\n",
      "File \u001b[0;32m~/miniconda3/envs/matminer-phaseshift/lib/python3.10/site-packages/botorch/utils/multi_objective/hypervolume.py:587\u001b[0m, in \u001b[0;36mNoisyExpectedHypervolumeMixin.__init__\u001b[0;34m(self, model, ref_point, X_baseline, sampler, objective, constraints, X_pending, prune_baseline, alpha, cache_pending, max_iep, incremental_nehvi, cache_root, marginalize_dim)\u001b[0m\n\u001b[1;32m    584\u001b[0m \u001b[38;5;28mself\u001b[39m\u001b[38;5;241m.\u001b[39mregister_buffer(\u001b[38;5;124m\"\u001b[39m\u001b[38;5;124mref_point\u001b[39m\u001b[38;5;124m\"\u001b[39m, ref_point)\n\u001b[1;32m    586\u001b[0m \u001b[38;5;28;01mif\u001b[39;00m X_baseline\u001b[38;5;241m.\u001b[39mndim \u001b[38;5;241m>\u001b[39m \u001b[38;5;241m2\u001b[39m:\n\u001b[0;32m--> 587\u001b[0m     \u001b[38;5;28;01mraise\u001b[39;00m UnsupportedError(\n\u001b[1;32m    588\u001b[0m         \u001b[38;5;124mf\u001b[39m\u001b[38;5;124m\"\u001b[39m\u001b[38;5;124mNoisyExpectedHypervolumeMixin does not support batched \u001b[39m\u001b[38;5;124m\"\u001b[39m\n\u001b[1;32m    589\u001b[0m         \u001b[38;5;124mf\u001b[39m\u001b[38;5;124m\"\u001b[39m\u001b[38;5;124mX_baseline. Expected 2 dims, got \u001b[39m\u001b[38;5;132;01m{\u001b[39;00mX_baseline\u001b[38;5;241m.\u001b[39mndim\u001b[38;5;132;01m}\u001b[39;00m\u001b[38;5;124m.\u001b[39m\u001b[38;5;124m\"\u001b[39m\n\u001b[1;32m    590\u001b[0m     )\n\u001b[1;32m    591\u001b[0m \u001b[38;5;28;01mif\u001b[39;00m prune_baseline:\n\u001b[1;32m    592\u001b[0m     X_baseline \u001b[38;5;241m=\u001b[39m prune_inferior_points_multi_objective(\n\u001b[1;32m    593\u001b[0m         model\u001b[38;5;241m=\u001b[39mmodel,\n\u001b[1;32m    594\u001b[0m         X\u001b[38;5;241m=\u001b[39mX_baseline,\n\u001b[0;32m   (...)\u001b[0m\n\u001b[1;32m    598\u001b[0m         marginalize_dim\u001b[38;5;241m=\u001b[39mmarginalize_dim,\n\u001b[1;32m    599\u001b[0m     )\n",
      "\u001b[0;31mUnsupportedError\u001b[0m: NoisyExpectedHypervolumeMixin does not support batched X_baseline. Expected 2 dims, got 3."
     ]
    }
   ],
   "source": [
    "import time\n",
    "import warnings\n",
    "\n",
    "from botorch import fit_gpytorch_mll\n",
    "from botorch.exceptions import BadInitialCandidatesWarning\n",
    "from botorch.sampling.normal import SobolQMCNormalSampler\n",
    "from botorch.utils.multi_objective.box_decompositions.dominated import (\n",
    "    DominatedPartitioning,\n",
    ")\n",
    "from botorch.utils.multi_objective.pareto import is_non_dominated\n",
    "\n",
    "\n",
    "warnings.filterwarnings(\"ignore\", category=BadInitialCandidatesWarning)\n",
    "warnings.filterwarnings(\"ignore\", category=RuntimeWarning)\n",
    "\n",
    "N_BATCH = 20 if not SMOKE_TEST else 5\n",
    "MC_SAMPLES = 128 if not SMOKE_TEST else 16\n",
    "\n",
    "verbose = True\n",
    "\n",
    "hvs_qparego, hvs_qehvi, hvs_qnehvi, hvs_random = [], [], [], []\n",
    "\n",
    "# call helper functions to generate initial training data and initialize model\n",
    "train_x_qparego, train_obj_true_qparego, total_df = generate_initial_data(surrogates)\n",
    "mll_qparego, model_qparego = initialize_model(train_x_qparego, train_obj_true_qparego)\n",
    "\n",
    "train_x_qehvi, train_obj_true_qehvi = (\n",
    "    train_x_qparego,\n",
    "    train_obj_true_qparego,\n",
    ")\n",
    "train_x_qnehvi, train_obj_true_qnehvi = (\n",
    "    train_x_qparego,\n",
    "    train_obj_true_qparego,\n",
    ")\n",
    "# train_x_random, train_obj_true_random = (\n",
    "#     train_x_qparego,\n",
    "#     train_obj_true_qparego,\n",
    "# )\n",
    "mll_qehvi, model_qehvi = initialize_model(train_x_qehvi, train_obj_true_qehvi)\n",
    "mll_qnehvi, model_qnehvi = initialize_model(train_x_qnehvi, train_obj_true_qnehvi)\n",
    "\n",
    "# compute hypervolume\n",
    "bd = DominatedPartitioning(ref_point=ref_point, Y=train_obj_true_qparego.detach().clone().squeeze(dim=1))\n",
    "volume = bd.compute_hypervolume().item()\n",
    "\n",
    "hvs_qparego.append(volume)\n",
    "hvs_qehvi.append(volume)\n",
    "hvs_qnehvi.append(volume)\n",
    "#hvs_random.append(volume)\n",
    "\n",
    "# run N_BATCH rounds of BayesOpt after the initial random batch\n",
    "for iteration in range(1, N_BATCH + 1):\n",
    "\n",
    "    t0 = time.monotonic()\n",
    "\n",
    "    # fit the models\n",
    "    train_model(model_qparego, mll_qparego)\n",
    "    train_model(model_qehvi, mll_qehvi)\n",
    "    train_model(model_qnehvi, mll_qnehvi)\n",
    "\n",
    "    # define the qEI and qNEI acquisition modules using a QMC sampler\n",
    "    qparego_sampler = SobolQMCNormalSampler(sample_shape=torch.Size([MC_SAMPLES]))\n",
    "    qehvi_sampler = SobolQMCNormalSampler(sample_shape=torch.Size([MC_SAMPLES]))\n",
    "    qnehvi_sampler = SobolQMCNormalSampler(sample_shape=torch.Size([MC_SAMPLES]))\n",
    "\n",
    "    # # optimize acquisition functions and get new observations\n",
    "    # new_x_qparego, new_obj_true_qparego = optimize_qnparego_and_get_observation(\n",
    "    #     model_qparego, train_x_qparego, train_obj_true_qparego, qparego_sampler\n",
    "    # )\n",
    "    # new_x_qehvi, new_obj_true_qehvi = optimize_qehvi_and_get_observation(\n",
    "    #     model_qehvi, train_x_qehvi, train_obj_true_qehvi, qehvi_sampler\n",
    "    # )\n",
    "    new_x_qnehvi, new_obj_true_qnehvi = optimize_qnehvi_and_get_observation(\n",
    "        model_qnehvi, train_x_qnehvi, train_obj_true_qnehvi, qnehvi_sampler\n",
    "    )\n",
    "    # new_x_random, new_obj_random, new_obj_true_random = generate_initial_data(\n",
    "    #     n=BATCH_SIZE\n",
    "    # )\n",
    "\n",
    "    # update training points\n",
    "    train_x_qparego = torch.cat([train_x_qparego, new_x_qparego])\n",
    "    train_obj_true_qparego = torch.cat([train_obj_true_qparego, new_obj_true_qparego])\n",
    "\n",
    "    train_x_qehvi = torch.cat([train_x_qehvi, new_x_qehvi])\n",
    "    train_obj_true_qehvi = torch.cat([train_obj_true_qehvi, new_obj_true_qehvi])\n",
    "\n",
    "    train_x_qnehvi = torch.cat([train_x_qnehvi, new_x_qnehvi])\n",
    "    train_obj_true_qnehvi = torch.cat([train_obj_true_qnehvi, new_obj_true_qnehvi])\n",
    "\n",
    "    train_x_random = torch.cat([train_x_random, new_x_random])\n",
    "    train_obj_true_random = torch.cat([train_obj_true_random, new_obj_true_random])\n",
    "\n",
    "    # update progress\n",
    "    for hvs_list, train_obj in zip(\n",
    "        (hvs_random, hvs_qparego, hvs_qehvi, hvs_qnehvi),\n",
    "        (\n",
    "            #train_obj_true_random,\n",
    "            train_obj_true_qparego,\n",
    "            train_obj_true_qehvi,\n",
    "            train_obj_true_qnehvi,\n",
    "        ),\n",
    "    ):\n",
    "        # compute hypervolume\n",
    "        bd = DominatedPartitioning(ref_point=ref_point, Y=train_obj.detach().clone().squeeze(dim=1))\n",
    "        volume = bd.compute_hypervolume().item()\n",
    "        hvs_list.append(volume)\n",
    "\n",
    "    # reinitialize the models so they are ready for fitting on next iteration\n",
    "    # Note: we find improved performance from not warm starting the model hyperparameters\n",
    "    # using the hyperparameters from the previous iteration\n",
    "    mll_qparego, model_qparego = initialize_model(train_x_qparego, train_obj_qparego)\n",
    "    mll_qehvi, model_qehvi = initialize_model(train_x_qehvi, train_obj_qehvi)\n",
    "    mll_qnehvi, model_qnehvi = initialize_model(train_x_qnehvi, train_obj_qnehvi)\n",
    "\n",
    "    t1 = time.monotonic()\n",
    "\n",
    "    if verbose:\n",
    "        print(\n",
    "            f\"\\nBatch {iteration:>2}: Hypervolume (random, qNParEGO, qEHVI, qNEHVI) = \"\n",
    "            f\"({hvs_random[-1]:>4.2f}, {hvs_qparego[-1]:>4.2f}, {hvs_qehvi[-1]:>4.2f}, {hvs_qnehvi[-1]:>4.2f}), \"\n",
    "            f\"time = {t1-t0:>4.2f}.\",\n",
    "            end=\"\",\n",
    "        )\n",
    "    else:\n",
    "        print(\".\", end=\"\")"
   ]
  },
  {
   "cell_type": "code",
   "execution_count": null,
   "id": "67998db2-ec0b-481c-b4d8-c05eff6f71d8",
   "metadata": {},
   "outputs": [],
   "source": [
    "model_qparego, train_x_qparego, train_obj_true_qparego, qparego_sampler"
   ]
  },
  {
   "cell_type": "code",
   "execution_count": 49,
   "id": "7b5e2b77-6723-4571-8857-ff41f0ba90c2",
   "metadata": {},
   "outputs": [
    {
     "ename": "AttributeError",
     "evalue": "'torch.Size' object has no attribute 'shape'",
     "output_type": "error",
     "traceback": [
      "\u001b[0;31m---------------------------------------------------------------------------\u001b[0m",
      "\u001b[0;31mAttributeError\u001b[0m                            Traceback (most recent call last)",
      "Cell \u001b[0;32mIn[49], line 1\u001b[0m\n\u001b[0;32m----> 1\u001b[0m \u001b[43mpred\u001b[49m\u001b[38;5;241;43m.\u001b[39;49m\u001b[43mshape\u001b[49m\n",
      "\u001b[0;31mAttributeError\u001b[0m: 'torch.Size' object has no attribute 'shape'"
     ]
    }
   ],
   "source": [
    "pred.shape"
   ]
  },
  {
   "cell_type": "code",
   "execution_count": 53,
   "id": "6c72fdf5-187f-4c80-a2dd-7fe986723702",
   "metadata": {},
   "outputs": [
    {
     "data": {
      "text/plain": [
       "tensor([[[0.5556, 0.0556],\n",
       "         [0.0000, 0.0098],\n",
       "         [0.0000, 0.0098],\n",
       "         ...,\n",
       "         [0.0000, 0.0098],\n",
       "         [0.0000, 0.0098],\n",
       "         [0.0000, 0.0098]],\n",
       "\n",
       "        [[0.5556, 0.0556],\n",
       "         [0.0000, 0.0098],\n",
       "         [0.0000, 0.0098],\n",
       "         ...,\n",
       "         [0.0000, 0.0098],\n",
       "         [0.0000, 0.0098],\n",
       "         [0.0000, 0.0098]],\n",
       "\n",
       "        [[0.5556, 0.0556],\n",
       "         [0.0000, 0.0098],\n",
       "         [0.0000, 0.0098],\n",
       "         ...,\n",
       "         [0.0000, 0.0098],\n",
       "         [0.0000, 0.0098],\n",
       "         [0.0000, 0.0098]],\n",
       "\n",
       "        ...,\n",
       "\n",
       "        [[0.5714, 0.0714],\n",
       "         [0.0000, 0.0098],\n",
       "         [0.0000, 0.0098],\n",
       "         ...,\n",
       "         [0.0000, 0.0098],\n",
       "         [0.0000, 0.0098],\n",
       "         [0.0000, 0.0098]],\n",
       "\n",
       "        [[0.5714, 0.0714],\n",
       "         [0.0000, 0.0098],\n",
       "         [0.0000, 0.0098],\n",
       "         ...,\n",
       "         [0.0000, 0.0098],\n",
       "         [0.0000, 0.0098],\n",
       "         [0.0000, 0.0098]],\n",
       "\n",
       "        [[0.5714, 0.0714],\n",
       "         [0.0000, 0.0098],\n",
       "         [0.0000, 0.0098],\n",
       "         ...,\n",
       "         [0.0000, 0.0098],\n",
       "         [0.0000, 0.0098],\n",
       "         [0.0000, 0.0098]]], dtype=torch.float64)"
      ]
     },
     "execution_count": 53,
     "metadata": {},
     "output_type": "execute_result"
    }
   ],
   "source": [
    "train_x"
   ]
  },
  {
   "cell_type": "code",
   "execution_count": 55,
   "id": "f39d1181-ae75-405f-9a95-11da89e95fbe",
   "metadata": {},
   "outputs": [
    {
     "name": "stdout",
     "output_type": "stream",
     "text": [
      "torch.Size([514, 104])\n",
      "torch.Size([514, 104])\n",
      "torch.Size([514, 104])\n",
      "torch.Size([514, 104])\n",
      "torch.Size([514, 514, 104])\n",
      "torch.Size([514, 104, 2])\n"
     ]
    },
    {
     "ename": "RuntimeError",
     "evalue": "Sizes of tensors must match except in dimension 1. Expected size 104 but got size 2 for tensor number 1 in the list.",
     "output_type": "error",
     "traceback": [
      "\u001b[0;31m---------------------------------------------------------------------------\u001b[0m",
      "\u001b[0;31mRuntimeError\u001b[0m                              Traceback (most recent call last)",
      "Cell \u001b[0;32mIn[55], line 14\u001b[0m\n\u001b[1;32m     10\u001b[0m     weights \u001b[38;5;241m=\u001b[39m sample_simplex(\u001b[38;5;241m2\u001b[39m, \u001b[38;5;241m*\u001b[39m\u001b[38;5;241m*\u001b[39mtkwargs)\u001b[38;5;241m.\u001b[39msqueeze()\n\u001b[1;32m     11\u001b[0m     objective \u001b[38;5;241m=\u001b[39m GenericMCObjective(\n\u001b[1;32m     12\u001b[0m         get_chebyshev_scalarization(weights\u001b[38;5;241m=\u001b[39mweights, Y\u001b[38;5;241m=\u001b[39mpred)\n\u001b[1;32m     13\u001b[0m     )\n\u001b[0;32m---> 14\u001b[0m     acq_func \u001b[38;5;241m=\u001b[39m \u001b[43mqNoisyExpectedImprovement\u001b[49m\u001b[43m(\u001b[49m\u001b[43m  \u001b[49m\u001b[38;5;66;43;03m# pyre-ignore: [28]\u001b[39;49;00m\n\u001b[1;32m     15\u001b[0m \u001b[43m        \u001b[49m\u001b[43mmodel\u001b[49m\u001b[38;5;241;43m=\u001b[39;49m\u001b[43mmodel\u001b[49m\u001b[43m,\u001b[49m\n\u001b[1;32m     16\u001b[0m \u001b[43m        \u001b[49m\u001b[43mobjective\u001b[49m\u001b[38;5;241;43m=\u001b[39;49m\u001b[43mobjective\u001b[49m\u001b[43m,\u001b[49m\n\u001b[1;32m     17\u001b[0m \u001b[43m        \u001b[49m\u001b[43mX_baseline\u001b[49m\u001b[38;5;241;43m=\u001b[39;49m\u001b[43mtrain_x\u001b[49m\u001b[43m,\u001b[49m\n\u001b[1;32m     18\u001b[0m \u001b[43m        \u001b[49m\u001b[43msampler\u001b[49m\u001b[38;5;241;43m=\u001b[39;49m\u001b[43msampler\u001b[49m\u001b[43m,\u001b[49m\n\u001b[1;32m     19\u001b[0m \u001b[43m        \u001b[49m\u001b[43mprune_baseline\u001b[49m\u001b[38;5;241;43m=\u001b[39;49m\u001b[38;5;28;43;01mFalse\u001b[39;49;00m\u001b[43m,\u001b[49m\n\u001b[1;32m     20\u001b[0m \u001b[43m    \u001b[49m\u001b[43m)\u001b[49m\n\u001b[1;32m     21\u001b[0m     acq_func_list\u001b[38;5;241m.\u001b[39mappend(acq_func)\n\u001b[1;32m     22\u001b[0m \u001b[38;5;66;03m# optimize\u001b[39;00m\n",
      "File \u001b[0;32m~/miniconda3/envs/matminer-phaseshift/lib/python3.10/site-packages/botorch/acquisition/monte_carlo.py:525\u001b[0m, in \u001b[0;36mqNoisyExpectedImprovement.__init__\u001b[0;34m(self, model, X_baseline, sampler, objective, posterior_transform, X_pending, prune_baseline, cache_root, constraints, eta, marginalize_dim)\u001b[0m\n\u001b[1;32m    523\u001b[0m \u001b[38;5;66;03m# set baseline samples\u001b[39;00m\n\u001b[1;32m    524\u001b[0m \u001b[38;5;28;01mwith\u001b[39;00m torch\u001b[38;5;241m.\u001b[39mno_grad():  \u001b[38;5;66;03m# this is _get_samples_and_objectives(X_baseline)\u001b[39;00m\n\u001b[0;32m--> 525\u001b[0m     posterior \u001b[38;5;241m=\u001b[39m \u001b[38;5;28;43mself\u001b[39;49m\u001b[38;5;241;43m.\u001b[39;49m\u001b[43mmodel\u001b[49m\u001b[38;5;241;43m.\u001b[39;49m\u001b[43mposterior\u001b[49m\u001b[43m(\u001b[49m\n\u001b[1;32m    526\u001b[0m \u001b[43m        \u001b[49m\u001b[43mX_baseline\u001b[49m\u001b[43m,\u001b[49m\u001b[43m \u001b[49m\u001b[43mposterior_transform\u001b[49m\u001b[38;5;241;43m=\u001b[39;49m\u001b[38;5;28;43mself\u001b[39;49m\u001b[38;5;241;43m.\u001b[39;49m\u001b[43mposterior_transform\u001b[49m\n\u001b[1;32m    527\u001b[0m \u001b[43m    \u001b[49m\u001b[43m)\u001b[49m\n\u001b[1;32m    528\u001b[0m     \u001b[38;5;66;03m# Note: The root decomposition is cached in two different places. It\u001b[39;00m\n\u001b[1;32m    529\u001b[0m     \u001b[38;5;66;03m# may be confusing to have two different caches, but this is not\u001b[39;00m\n\u001b[1;32m    530\u001b[0m     \u001b[38;5;66;03m# trivial to change since each is needed for a different reason:\u001b[39;00m\n\u001b[0;32m   (...)\u001b[0m\n\u001b[1;32m    535\u001b[0m     \u001b[38;5;66;03m# - self._baseline_L allows a root decomposition to be persisted outside\u001b[39;00m\n\u001b[1;32m    536\u001b[0m     \u001b[38;5;66;03m#   this method.\u001b[39;00m\n\u001b[1;32m    537\u001b[0m     baseline_samples \u001b[38;5;241m=\u001b[39m \u001b[38;5;28mself\u001b[39m\u001b[38;5;241m.\u001b[39mget_posterior_samples(posterior)\n",
      "File \u001b[0;32m~/miniconda3/envs/matminer-phaseshift/lib/python3.10/site-packages/botorch/models/gpytorch.py:681\u001b[0m, in \u001b[0;36mModelListGPyTorchModel.posterior\u001b[0;34m(self, X, output_indices, observation_noise, posterior_transform)\u001b[0m\n\u001b[1;32m    676\u001b[0m returns_untransformed \u001b[38;5;241m=\u001b[39m \u001b[38;5;28many\u001b[39m(\n\u001b[1;32m    677\u001b[0m     \u001b[38;5;28mhasattr\u001b[39m(mod, \u001b[38;5;124m\"\u001b[39m\u001b[38;5;124moutcome_transform\u001b[39m\u001b[38;5;124m\"\u001b[39m) \u001b[38;5;129;01mand\u001b[39;00m (\u001b[38;5;129;01mnot\u001b[39;00m mod\u001b[38;5;241m.\u001b[39moutcome_transform\u001b[38;5;241m.\u001b[39m_is_linear)\n\u001b[1;32m    678\u001b[0m     \u001b[38;5;28;01mfor\u001b[39;00m mod \u001b[38;5;129;01min\u001b[39;00m \u001b[38;5;28mself\u001b[39m\u001b[38;5;241m.\u001b[39mmodels\n\u001b[1;32m    679\u001b[0m )\n\u001b[1;32m    680\u001b[0m \u001b[38;5;66;03m# NOTE: We're not passing in the posterior transform here. We'll apply it later.\u001b[39;00m\n\u001b[0;32m--> 681\u001b[0m posterior \u001b[38;5;241m=\u001b[39m \u001b[43mModelList\u001b[49m\u001b[38;5;241;43m.\u001b[39;49m\u001b[43mposterior\u001b[49m\u001b[43m(\u001b[49m\n\u001b[1;32m    682\u001b[0m \u001b[43m    \u001b[49m\u001b[38;5;28;43mself\u001b[39;49m\u001b[43m,\u001b[49m\n\u001b[1;32m    683\u001b[0m \u001b[43m    \u001b[49m\u001b[43mX\u001b[49m\u001b[38;5;241;43m=\u001b[39;49m\u001b[43mX\u001b[49m\u001b[43m,\u001b[49m\n\u001b[1;32m    684\u001b[0m \u001b[43m    \u001b[49m\u001b[43moutput_indices\u001b[49m\u001b[38;5;241;43m=\u001b[39;49m\u001b[43moutput_indices\u001b[49m\u001b[43m,\u001b[49m\n\u001b[1;32m    685\u001b[0m \u001b[43m    \u001b[49m\u001b[43mobservation_noise\u001b[49m\u001b[38;5;241;43m=\u001b[39;49m\u001b[43mobservation_noise\u001b[49m\u001b[43m,\u001b[49m\n\u001b[1;32m    686\u001b[0m \u001b[43m\u001b[49m\u001b[43m)\u001b[49m\n\u001b[1;32m    687\u001b[0m \u001b[38;5;28;01mif\u001b[39;00m \u001b[38;5;129;01mnot\u001b[39;00m returns_untransformed:\n\u001b[1;32m    688\u001b[0m     mvns \u001b[38;5;241m=\u001b[39m [p\u001b[38;5;241m.\u001b[39mdistribution \u001b[38;5;28;01mfor\u001b[39;00m p \u001b[38;5;129;01min\u001b[39;00m posterior\u001b[38;5;241m.\u001b[39mposteriors]\n",
      "File \u001b[0;32m~/miniconda3/envs/matminer-phaseshift/lib/python3.10/site-packages/botorch/models/model.py:517\u001b[0m, in \u001b[0;36mModelList.posterior\u001b[0;34m(self, X, output_indices, observation_noise, posterior_transform)\u001b[0m\n\u001b[1;32m    514\u001b[0m     \u001b[38;5;28;01melse\u001b[39;00m:\n\u001b[1;32m    515\u001b[0m         obs_noise \u001b[38;5;241m=\u001b[39m observation_noise\n\u001b[1;32m    516\u001b[0m     posteriors\u001b[38;5;241m.\u001b[39mappend(\n\u001b[0;32m--> 517\u001b[0m         \u001b[38;5;28;43mself\u001b[39;49m\u001b[38;5;241;43m.\u001b[39;49m\u001b[43mmodels\u001b[49m\u001b[43m[\u001b[49m\u001b[43mi\u001b[49m\u001b[43m]\u001b[49m\u001b[38;5;241;43m.\u001b[39;49m\u001b[43mposterior\u001b[49m\u001b[43m(\u001b[49m\n\u001b[1;32m    518\u001b[0m \u001b[43m            \u001b[49m\u001b[43mX\u001b[49m\u001b[38;5;241;43m=\u001b[39;49m\u001b[43mX\u001b[49m\u001b[43m,\u001b[49m\u001b[43m \u001b[49m\u001b[43moutput_indices\u001b[49m\u001b[38;5;241;43m=\u001b[39;49m\u001b[43midcs\u001b[49m\u001b[43m,\u001b[49m\u001b[43m \u001b[49m\u001b[43mobservation_noise\u001b[49m\u001b[38;5;241;43m=\u001b[39;49m\u001b[43mobs_noise\u001b[49m\n\u001b[1;32m    519\u001b[0m \u001b[43m        \u001b[49m\u001b[43m)\u001b[49m\n\u001b[1;32m    520\u001b[0m     )\n\u001b[1;32m    521\u001b[0m posterior \u001b[38;5;241m=\u001b[39m PosteriorList(\u001b[38;5;241m*\u001b[39mposteriors)\n\u001b[1;32m    522\u001b[0m \u001b[38;5;28;01mif\u001b[39;00m posterior_transform \u001b[38;5;129;01mis\u001b[39;00m \u001b[38;5;129;01mnot\u001b[39;00m \u001b[38;5;28;01mNone\u001b[39;00m:\n",
      "File \u001b[0;32m~/miniconda3/envs/matminer-phaseshift/lib/python3.10/site-packages/botorch/models/gpytorch.py:446\u001b[0m, in \u001b[0;36mBatchedMultiOutputGPyTorchModel.posterior\u001b[0;34m(self, X, output_indices, observation_noise, posterior_transform)\u001b[0m\n\u001b[1;32m    440\u001b[0m     X, output_dim_idx \u001b[38;5;241m=\u001b[39m add_output_dim(\n\u001b[1;32m    441\u001b[0m         X\u001b[38;5;241m=\u001b[39mX, original_batch_shape\u001b[38;5;241m=\u001b[39m\u001b[38;5;28mself\u001b[39m\u001b[38;5;241m.\u001b[39m_input_batch_shape\n\u001b[1;32m    442\u001b[0m     )\n\u001b[1;32m    443\u001b[0m \u001b[38;5;66;03m# NOTE: BoTorch's GPyTorchModels also inherit from GPyTorch's ExactGP, thus\u001b[39;00m\n\u001b[1;32m    444\u001b[0m \u001b[38;5;66;03m# self(X) calls GPyTorch's ExactGP's __call__, which computes the posterior,\u001b[39;00m\n\u001b[1;32m    445\u001b[0m \u001b[38;5;66;03m# rather than e.g. SingleTaskGP's forward, which computes the prior.\u001b[39;00m\n\u001b[0;32m--> 446\u001b[0m mvn \u001b[38;5;241m=\u001b[39m \u001b[38;5;28;43mself\u001b[39;49m\u001b[43m(\u001b[49m\u001b[43mX\u001b[49m\u001b[43m)\u001b[49m\n\u001b[1;32m    447\u001b[0m mvn \u001b[38;5;241m=\u001b[39m \u001b[38;5;28mself\u001b[39m\u001b[38;5;241m.\u001b[39m_apply_noise(X\u001b[38;5;241m=\u001b[39mX, mvn\u001b[38;5;241m=\u001b[39mmvn, observation_noise\u001b[38;5;241m=\u001b[39mobservation_noise)\n\u001b[1;32m    448\u001b[0m \u001b[38;5;28;01mif\u001b[39;00m \u001b[38;5;28mself\u001b[39m\u001b[38;5;241m.\u001b[39m_num_outputs \u001b[38;5;241m>\u001b[39m \u001b[38;5;241m1\u001b[39m:\n",
      "File \u001b[0;32m~/miniconda3/envs/matminer-phaseshift/lib/python3.10/site-packages/gpytorch/models/exact_gp.py:315\u001b[0m, in \u001b[0;36mExactGP.__call__\u001b[0;34m(self, *args, **kwargs)\u001b[0m\n\u001b[1;32m    313\u001b[0m     \u001b[38;5;28mprint\u001b[39m(train_input\u001b[38;5;241m.\u001b[39mshape)\n\u001b[1;32m    314\u001b[0m     \u001b[38;5;28mprint\u001b[39m(\u001b[38;5;28minput\u001b[39m\u001b[38;5;241m.\u001b[39mshape)\n\u001b[0;32m--> 315\u001b[0m     full_inputs\u001b[38;5;241m.\u001b[39mappend(\u001b[43mtorch\u001b[49m\u001b[38;5;241;43m.\u001b[39;49m\u001b[43mcat\u001b[49m\u001b[43m(\u001b[49m\u001b[43m[\u001b[49m\u001b[43mtrain_input\u001b[49m\u001b[43m,\u001b[49m\u001b[43m \u001b[49m\u001b[38;5;28;43minput\u001b[39;49m\u001b[43m]\u001b[49m\u001b[43m,\u001b[49m\u001b[43m \u001b[49m\u001b[43mdim\u001b[49m\u001b[38;5;241;43m=\u001b[39;49m\u001b[38;5;241;43m-\u001b[39;49m\u001b[38;5;241;43m2\u001b[39;49m\u001b[43m)\u001b[49m)\n\u001b[1;32m    317\u001b[0m \u001b[38;5;66;03m# Get the joint distribution for training/test data\u001b[39;00m\n\u001b[1;32m    318\u001b[0m full_output \u001b[38;5;241m=\u001b[39m \u001b[38;5;28msuper\u001b[39m(ExactGP, \u001b[38;5;28mself\u001b[39m)\u001b[38;5;241m.\u001b[39m\u001b[38;5;21m__call__\u001b[39m(\u001b[38;5;241m*\u001b[39mfull_inputs, \u001b[38;5;241m*\u001b[39m\u001b[38;5;241m*\u001b[39mkwargs)\n",
      "\u001b[0;31mRuntimeError\u001b[0m: Sizes of tensors must match except in dimension 1. Expected size 104 but got size 2 for tensor number 1 in the list."
     ]
    }
   ],
   "source": [
    "model, train_x, train_obj, sampler = model_qparego, train_x_qparego, train_obj_true_qparego, qparego_sampler\n",
    "\"\"\"Samples a set of random weights for each candidate in the batch, performs sequential greedy optimization\n",
    "of the qNParEGO acquisition function, and returns a new candidate and observation.\"\"\"\n",
    "train_x = normalize(train_x, bounds)\n",
    "with torch.no_grad():\n",
    "    #pred = model.posterior(train_x).mean\n",
    "    pred = torch.concatenate([model.posterior(train_x[:,:,i]).mean for i, model in enumerate(model_qparego.models)],dim=-1)\n",
    "acq_func_list = []\n",
    "for _ in range(BATCH_SIZE):\n",
    "    weights = sample_simplex(2, **tkwargs).squeeze()\n",
    "    objective = GenericMCObjective(\n",
    "        get_chebyshev_scalarization(weights=weights, Y=pred)\n",
    "    )\n",
    "    acq_func = qNoisyExpectedImprovement(  # pyre-ignore: [28]\n",
    "        model=model,\n",
    "        objective=objective,\n",
    "        X_baseline=train_x,\n",
    "        sampler=sampler,\n",
    "        prune_baseline=False,\n",
    "    )\n",
    "    acq_func_list.append(acq_func)\n",
    "# optimize\n",
    "candidates, _ = optimize_acqf_list(\n",
    "    acq_function_list=acq_func_list,\n",
    "    bounds=standard_bounds,\n",
    "    num_restarts=NUM_RESTARTS,\n",
    "    raw_samples=RAW_SAMPLES,  # used for intialization heuristic\n",
    "    options={\"batch_limit\": 5, \"maxiter\": 200},\n",
    ")\n",
    "# observe new values\n",
    "new_x = unnormalize(candidates.detach(), bounds=bounds)\n",
    "new_obj_true = problem(new_x)\n",
    "#new_obj = new_obj_true + torch.randn_like(new_obj_true) * NOISE_SE\n",
    "#return new_x, new_obj_true"
   ]
  },
  {
   "cell_type": "code",
   "execution_count": null,
   "id": "ee571371-4a54-4d76-bf77-d6b65eb63697",
   "metadata": {},
   "outputs": [],
   "source": [
    "train_x_qparego.shape"
   ]
  },
  {
   "cell_type": "code",
   "execution_count": null,
   "id": "cb517368-3dbf-4c3b-a98f-3e47e4b19048",
   "metadata": {},
   "outputs": [],
   "source": [
    "model_qparego.posterior(train_x_qparego[:,:,0])"
   ]
  },
  {
   "cell_type": "code",
   "execution_count": 42,
   "id": "aaae77b7-7b3c-4b04-8682-e9746f78ef79",
   "metadata": {},
   "outputs": [
    {
     "name": "stdout",
     "output_type": "stream",
     "text": [
      "torch.Size([514, 104])\n",
      "torch.Size([514, 104])\n"
     ]
    },
    {
     "data": {
      "text/plain": [
       "torch.Size([514, 1])"
      ]
     },
     "execution_count": 42,
     "metadata": {},
     "output_type": "execute_result"
    }
   ],
   "source": [
    "model_qparego.models[0].posterior(train_x_qparego[:,:,0]).mean.shape"
   ]
  },
  {
   "cell_type": "code",
   "execution_count": 44,
   "id": "59f143ef-76b7-494b-8775-8f6040f20705",
   "metadata": {},
   "outputs": [
    {
     "name": "stdout",
     "output_type": "stream",
     "text": [
      "torch.Size([514, 104])\n",
      "torch.Size([514, 104])\n",
      "torch.Size([514, 104])\n",
      "torch.Size([514, 104])\n"
     ]
    },
    {
     "data": {
      "text/plain": [
       "torch.Size([514, 2])"
      ]
     },
     "execution_count": 44,
     "metadata": {},
     "output_type": "execute_result"
    }
   ],
   "source": [
    "torch.concatenate([model.posterior(train_x_qparego[:,:,i]).mean for i, model in enumerate(model_qparego.models)],dim=-1).shape"
   ]
  },
  {
   "cell_type": "code",
   "execution_count": 28,
   "id": "3a5bd13f-98df-40af-b32b-1a04cc07a4bc",
   "metadata": {},
   "outputs": [
    {
     "name": "stdout",
     "output_type": "stream",
     "text": [
      "torch.Size([514, 104])\n",
      "torch.Size([514, 104])\n"
     ]
    },
    {
     "ename": "TypeError",
     "evalue": "mean() received an invalid combination of arguments - got (GPyTorchPosterior, dim=int), but expected one of:\n * (Tensor input, *, torch.dtype dtype)\n * (Tensor input, tuple of ints dim, bool keepdim, *, torch.dtype dtype, Tensor out)\n * (Tensor input, tuple of names dim, bool keepdim, *, torch.dtype dtype, Tensor out)\n",
     "output_type": "error",
     "traceback": [
      "\u001b[0;31m---------------------------------------------------------------------------\u001b[0m",
      "\u001b[0;31mTypeError\u001b[0m                                 Traceback (most recent call last)",
      "Cell \u001b[0;32mIn[28], line 1\u001b[0m\n\u001b[0;32m----> 1\u001b[0m \u001b[43mtorch\u001b[49m\u001b[38;5;241;43m.\u001b[39;49m\u001b[43mmean\u001b[49m\u001b[43m(\u001b[49m\u001b[43mmodel_qparego\u001b[49m\u001b[38;5;241;43m.\u001b[39;49m\u001b[43mmodels\u001b[49m\u001b[43m[\u001b[49m\u001b[38;5;241;43m0\u001b[39;49m\u001b[43m]\u001b[49m\u001b[38;5;241;43m.\u001b[39;49m\u001b[43mposterior\u001b[49m\u001b[43m(\u001b[49m\u001b[43mtrain_x_qparego\u001b[49m\u001b[43m[\u001b[49m\u001b[43m:\u001b[49m\u001b[43m,\u001b[49m\u001b[43m:\u001b[49m\u001b[43m,\u001b[49m\u001b[38;5;241;43m0\u001b[39;49m\u001b[43m]\u001b[49m\u001b[43m)\u001b[49m\u001b[43m,\u001b[49m\u001b[43m \u001b[49m\u001b[43mdim\u001b[49m\u001b[38;5;241;43m=\u001b[39;49m\u001b[38;5;241;43m1\u001b[39;49m\u001b[43m)\u001b[49m\n",
      "\u001b[0;31mTypeError\u001b[0m: mean() received an invalid combination of arguments - got (GPyTorchPosterior, dim=int), but expected one of:\n * (Tensor input, *, torch.dtype dtype)\n * (Tensor input, tuple of ints dim, bool keepdim, *, torch.dtype dtype, Tensor out)\n * (Tensor input, tuple of names dim, bool keepdim, *, torch.dtype dtype, Tensor out)\n"
     ]
    }
   ],
   "source": [
    "torch.mean(, dim=1)"
   ]
  },
  {
   "cell_type": "code",
   "execution_count": null,
   "id": "b203006d-2b71-4c41-99a5-7c9f0e8d65b7",
   "metadata": {},
   "outputs": [],
   "source": [
    "model_qparego.models[0]"
   ]
  },
  {
   "cell_type": "code",
   "execution_count": null,
   "id": "5f7788d1-bae8-49bd-8a75-0267ffa1ca27",
   "metadata": {},
   "outputs": [],
   "source": [
    "train_x_qparego.shape"
   ]
  },
  {
   "cell_type": "code",
   "execution_count": null,
   "id": "42d71705-4258-44f6-be0f-5bbf22be894c",
   "metadata": {},
   "outputs": [],
   "source": [
    "train_obj_true_qparego.shape"
   ]
  },
  {
   "cell_type": "code",
   "execution_count": null,
   "id": "35adc355-e5ab-4581-bf9d-4b4299f08763",
   "metadata": {},
   "outputs": [],
   "source": [
    "bd = DominatedPartitioning(ref_point=ref_point, Y=train_obj_true_qehvi.squeeze(dim=1))\n",
    "volume = bd.compute_hypervolume().item()"
   ]
  },
  {
   "cell_type": "code",
   "execution_count": null,
   "id": "a6661547-1154-46be-913c-1fdf7b2637f3",
   "metadata": {},
   "outputs": [],
   "source": [
    "train_x_qehvi.shape"
   ]
  },
  {
   "cell_type": "code",
   "execution_count": null,
   "id": "f7319d8f-c108-4627-8ddc-4eab767779c0",
   "metadata": {},
   "outputs": [],
   "source": [
    "train_obj_true_qehvi.shape"
   ]
  },
  {
   "cell_type": "code",
   "execution_count": null,
   "id": "40e4eab1-2db6-49df-b244-c6cdabea15be",
   "metadata": {},
   "outputs": [],
   "source": [
    "model_qehvi.train_inputs[0][0].shape\n",
    "\n",
    "training_set = [torch.tensor(X[0], **tkwargs) for X in model_qehvi.train_inputs]\n",
    "torch.stack(training_set, dim=-1).shape\n"
   ]
  },
  {
   "cell_type": "code",
   "execution_count": null,
   "id": "f07577f0-5ccc-460b-982e-3a91ab49250e",
   "metadata": {},
   "outputs": [],
   "source": [
    "model_qehvi.eval()\n",
    "model_qehvi(train_x_qehvi)"
   ]
  },
  {
   "cell_type": "code",
   "execution_count": null,
   "id": "6cf846a0-988e-4607-8fd6-9f58e16aabca",
   "metadata": {},
   "outputs": [],
   "source": [
    "def generate_initial_data(surrogates):\n",
    "    from utils.model import evaluateGP\n",
    "    X = np.concatenate([surrogate.X for surrogate in surrogates],axis=0)\n",
    "    y = [evaluateGP(surrogate.model, X) for surrogate in surrogates][0]\n",
    "    X = torch.tensor(X, **tkwargs)\n",
    "    y = [torch.tensor(array, **tkwargs) for array in y]\n",
    "    X = torch.stack((X, X),dim=-1)\n",
    "    y = torch.stack(y,dim=-1)\n",
    "    \n",
    "    return X, y"
   ]
  },
  {
   "cell_type": "code",
   "execution_count": null,
   "id": "9c792629-dd88-4dda-9de0-1cf8f0601639",
   "metadata": {},
   "outputs": [],
   "source": [
    "from utils.model import evaluateGP\n",
    "X = []\n",
    "X = np.concatenate([surrogate.X for surrogate in surrogates],axis=0)\n",
    "y = [evaluateGP(surrogate.model, X) for surrogate in surrogates][0]"
   ]
  },
  {
   "cell_type": "code",
   "execution_count": null,
   "id": "94036f16-f17d-4964-a2c6-ea794bfeb101",
   "metadata": {},
   "outputs": [],
   "source": []
  },
  {
   "cell_type": "code",
   "execution_count": null,
   "id": "2dc9dacf-5fe8-4b18-83e9-38fa605579f0",
   "metadata": {},
   "outputs": [],
   "source": []
  },
  {
   "cell_type": "code",
   "execution_count": null,
   "id": "361ded72-8f07-472a-b628-8f8a0ca33922",
   "metadata": {},
   "outputs": [],
   "source": []
  },
  {
   "cell_type": "code",
   "execution_count": null,
   "id": "e4f2c646-8c65-4e22-ab4b-97a5078d20e7",
   "metadata": {},
   "outputs": [],
   "source": [
    "a,b = generate_initial_data(surrogates)"
   ]
  },
  {
   "cell_type": "code",
   "execution_count": null,
   "id": "af5dc0a1-73cc-4292-aa75-8ff0bc045d76",
   "metadata": {},
   "outputs": [],
   "source": [
    "a.shape"
   ]
  },
  {
   "cell_type": "code",
   "execution_count": null,
   "id": "310196cd-b5e4-4aee-b66e-c8bedd6bdc9f",
   "metadata": {},
   "outputs": [],
   "source": [
    "b.shape"
   ]
  },
  {
   "cell_type": "code",
   "execution_count": null,
   "id": "0d16d025-284b-4e1b-a80c-0dcfe5450ecc",
   "metadata": {},
   "outputs": [],
   "source": [
    "X.shape"
   ]
  },
  {
   "cell_type": "code",
   "execution_count": null,
   "id": "6da9e0ca-5f79-4477-b790-1d7cabe9de0b",
   "metadata": {},
   "outputs": [],
   "source": [
    "y.sh"
   ]
  },
  {
   "cell_type": "code",
   "execution_count": null,
   "id": "d7704f20-fe88-415d-9ec5-cd6f2220e0dc",
   "metadata": {},
   "outputs": [],
   "source": []
  }
 ],
 "metadata": {
  "kernelspec": {
   "display_name": "Python 3 (ipykernel)",
   "language": "python",
   "name": "python3"
  },
  "language_info": {
   "codemirror_mode": {
    "name": "ipython",
    "version": 3
   },
   "file_extension": ".py",
   "mimetype": "text/x-python",
   "name": "python",
   "nbconvert_exporter": "python",
   "pygments_lexer": "ipython3",
   "version": "3.10.0"
  }
 },
 "nbformat": 4,
 "nbformat_minor": 5
}
