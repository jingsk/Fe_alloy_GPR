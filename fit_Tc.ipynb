{
 "cells": [
  {
   "cell_type": "code",
   "execution_count": 1,
   "id": "8bbc5e6f-315e-4a8e-9635-4e26a5d6c237",
   "metadata": {},
   "outputs": [],
   "source": [
    "import pandas as pd\n",
    "import numpy as np\n",
    "df = pd.read_csv('./dataset/TCurieData.csv', na_values=0)\n",
    "df = df.rename(columns={'Composition': 'formula'})"
   ]
  },
  {
   "cell_type": "code",
   "execution_count": 2,
   "id": "30190f19-4b58-456d-ba1b-7dcf2e778be3",
   "metadata": {},
   "outputs": [
    {
     "data": {
      "text/html": [
       "<div>\n",
       "<style scoped>\n",
       "    .dataframe tbody tr th:only-of-type {\n",
       "        vertical-align: middle;\n",
       "    }\n",
       "\n",
       "    .dataframe tbody tr th {\n",
       "        vertical-align: top;\n",
       "    }\n",
       "\n",
       "    .dataframe thead th {\n",
       "        text-align: right;\n",
       "    }\n",
       "</style>\n",
       "<table border=\"1\" class=\"dataframe\">\n",
       "  <thead>\n",
       "    <tr style=\"text-align: right;\">\n",
       "      <th></th>\n",
       "      <th>formula</th>\n",
       "      <th>Annealing Time (s)</th>\n",
       "      <th>Annealing Temperature (K)</th>\n",
       "      <th>Thickness (mu m)</th>\n",
       "      <th>Tc (K)</th>\n",
       "    </tr>\n",
       "  </thead>\n",
       "  <tbody>\n",
       "    <tr>\n",
       "      <th>0</th>\n",
       "      <td>Fe69.5Co0.5Mn10Mo5B15</td>\n",
       "      <td>NaN</td>\n",
       "      <td>NaN</td>\n",
       "      <td>20.0</td>\n",
       "      <td>370.00000</td>\n",
       "    </tr>\n",
       "    <tr>\n",
       "      <th>1</th>\n",
       "      <td>Fe80Ni6Zr7Nb2B4Cu1</td>\n",
       "      <td>NaN</td>\n",
       "      <td>NaN</td>\n",
       "      <td>20.0</td>\n",
       "      <td>374.00000</td>\n",
       "    </tr>\n",
       "    <tr>\n",
       "      <th>2</th>\n",
       "      <td>Fe90Zr7B3</td>\n",
       "      <td>3600.0</td>\n",
       "      <td>873.25952</td>\n",
       "      <td>20.0</td>\n",
       "      <td>388.64693</td>\n",
       "    </tr>\n",
       "    <tr>\n",
       "      <th>3</th>\n",
       "      <td>Fe69.5Co0.5Mn10Mo5B15</td>\n",
       "      <td>1800.0</td>\n",
       "      <td>723.00000</td>\n",
       "      <td>20.0</td>\n",
       "      <td>389.00000</td>\n",
       "    </tr>\n",
       "    <tr>\n",
       "      <th>4</th>\n",
       "      <td>Fe90Zr7B3</td>\n",
       "      <td>3600.0</td>\n",
       "      <td>822.85321</td>\n",
       "      <td>20.0</td>\n",
       "      <td>389.68647</td>\n",
       "    </tr>\n",
       "  </tbody>\n",
       "</table>\n",
       "</div>"
      ],
      "text/plain": [
       "                 formula  Annealing Time (s)  Annealing Temperature (K)  \\\n",
       "0  Fe69.5Co0.5Mn10Mo5B15                 NaN                        NaN   \n",
       "1     Fe80Ni6Zr7Nb2B4Cu1                 NaN                        NaN   \n",
       "2              Fe90Zr7B3              3600.0                  873.25952   \n",
       "3  Fe69.5Co0.5Mn10Mo5B15              1800.0                  723.00000   \n",
       "4              Fe90Zr7B3              3600.0                  822.85321   \n",
       "\n",
       "   Thickness (mu m)     Tc (K)  \n",
       "0              20.0  370.00000  \n",
       "1              20.0  374.00000  \n",
       "2              20.0  388.64693  \n",
       "3              20.0  389.00000  \n",
       "4              20.0  389.68647  "
      ]
     },
     "execution_count": 2,
     "metadata": {},
     "output_type": "execute_result"
    }
   ],
   "source": [
    "df.head()"
   ]
  },
  {
   "cell_type": "code",
   "execution_count": 3,
   "id": "a3f43d3f-ce19-45c1-a44c-b71300186ea0",
   "metadata": {},
   "outputs": [
    {
     "data": {
      "text/html": [
       "<div>\n",
       "<style scoped>\n",
       "    .dataframe tbody tr th:only-of-type {\n",
       "        vertical-align: middle;\n",
       "    }\n",
       "\n",
       "    .dataframe tbody tr th {\n",
       "        vertical-align: top;\n",
       "    }\n",
       "\n",
       "    .dataframe thead th {\n",
       "        text-align: right;\n",
       "    }\n",
       "</style>\n",
       "<table border=\"1\" class=\"dataframe\">\n",
       "  <thead>\n",
       "    <tr style=\"text-align: right;\">\n",
       "      <th></th>\n",
       "      <th>Annealing Time (s)</th>\n",
       "      <th>Annealing Temperature (K)</th>\n",
       "      <th>Thickness (mu m)</th>\n",
       "      <th>Tc (K)</th>\n",
       "    </tr>\n",
       "  </thead>\n",
       "  <tbody>\n",
       "    <tr>\n",
       "      <th>count</th>\n",
       "      <td>98.000000</td>\n",
       "      <td>98.000000</td>\n",
       "      <td>220.000000</td>\n",
       "      <td>220.000000</td>\n",
       "    </tr>\n",
       "    <tr>\n",
       "      <th>mean</th>\n",
       "      <td>1668.527573</td>\n",
       "      <td>735.758597</td>\n",
       "      <td>21.677273</td>\n",
       "      <td>599.232518</td>\n",
       "    </tr>\n",
       "    <tr>\n",
       "      <th>std</th>\n",
       "      <td>1439.796336</td>\n",
       "      <td>74.034270</td>\n",
       "      <td>3.351607</td>\n",
       "      <td>73.767177</td>\n",
       "    </tr>\n",
       "    <tr>\n",
       "      <th>min</th>\n",
       "      <td>60.000000</td>\n",
       "      <td>573.000000</td>\n",
       "      <td>17.500000</td>\n",
       "      <td>370.000000</td>\n",
       "    </tr>\n",
       "    <tr>\n",
       "      <th>25%</th>\n",
       "      <td>240.000000</td>\n",
       "      <td>679.500000</td>\n",
       "      <td>20.000000</td>\n",
       "      <td>587.000000</td>\n",
       "    </tr>\n",
       "    <tr>\n",
       "      <th>50%</th>\n",
       "      <td>1800.000000</td>\n",
       "      <td>745.514655</td>\n",
       "      <td>20.000000</td>\n",
       "      <td>605.983795</td>\n",
       "    </tr>\n",
       "    <tr>\n",
       "      <th>75%</th>\n",
       "      <td>3600.000000</td>\n",
       "      <td>780.500000</td>\n",
       "      <td>22.500000</td>\n",
       "      <td>626.768258</td>\n",
       "    </tr>\n",
       "    <tr>\n",
       "      <th>max</th>\n",
       "      <td>3857.047930</td>\n",
       "      <td>924.632090</td>\n",
       "      <td>30.000000</td>\n",
       "      <td>769.000000</td>\n",
       "    </tr>\n",
       "  </tbody>\n",
       "</table>\n",
       "</div>"
      ],
      "text/plain": [
       "       Annealing Time (s)  Annealing Temperature (K)  Thickness (mu m)  \\\n",
       "count           98.000000                  98.000000        220.000000   \n",
       "mean          1668.527573                 735.758597         21.677273   \n",
       "std           1439.796336                  74.034270          3.351607   \n",
       "min             60.000000                 573.000000         17.500000   \n",
       "25%            240.000000                 679.500000         20.000000   \n",
       "50%           1800.000000                 745.514655         20.000000   \n",
       "75%           3600.000000                 780.500000         22.500000   \n",
       "max           3857.047930                 924.632090         30.000000   \n",
       "\n",
       "           Tc (K)  \n",
       "count  220.000000  \n",
       "mean   599.232518  \n",
       "std     73.767177  \n",
       "min    370.000000  \n",
       "25%    587.000000  \n",
       "50%    605.983795  \n",
       "75%    626.768258  \n",
       "max    769.000000  "
      ]
     },
     "execution_count": 3,
     "metadata": {},
     "output_type": "execute_result"
    }
   ],
   "source": [
    "df.describe()"
   ]
  },
  {
   "cell_type": "code",
   "execution_count": 4,
   "id": "88581e59-9d8c-4764-a283-716e86b03b29",
   "metadata": {},
   "outputs": [
    {
     "name": "stderr",
     "output_type": "stream",
     "text": [
      "/Users/jingsk/miniconda3/envs/matminer-phaseshift/lib/python3.10/site-packages/tqdm/auto.py:21: TqdmWarning: IProgress not found. Please update jupyter and ipywidgets. See https://ipywidgets.readthedocs.io/en/stable/user_install.html\n",
      "  from .autonotebook import tqdm as notebook_tqdm\n",
      "StrToComposition: 100%|████████████████████████████████████████████████████████████| 220/220 [00:00<00:00, 1720.12it/s]\n",
      "ElementFraction: 100%|█████████████████████████████████████████████████████████████| 220/220 [00:00<00:00, 1550.84it/s]\n",
      "ValenceOrbital: 100%|████████████████████████████████████████████████████████████████| 220/220 [00:17<00:00, 12.34it/s]\n"
     ]
    }
   ],
   "source": [
    "from utils import add_feature\n",
    "\n",
    "df = add_feature.add_composition(df)\n",
    "df = add_feature.add_element_fraction(df)\n",
    "df = add_feature.add_valence_orbitals(df)\n",
    "#df = add_feature.add_magpie(df)"
   ]
  },
  {
   "cell_type": "code",
   "execution_count": 5,
   "id": "03d27590-f027-41a1-8dff-f559d85bcd0c",
   "metadata": {},
   "outputs": [],
   "source": [
    "from sklearn.model_selection import train_test_split\n",
    "\n",
    "X = df.drop(['Tc (K)', \n",
    "             'composition',\n",
    "             'formula'], axis =1)\n",
    "y = df['Tc (K)']\n",
    "\n",
    "X_train, X_test, y_train, y_test = train_test_split(X, y, test_size=0.2, random_state=1)"
   ]
  },
  {
   "cell_type": "code",
   "execution_count": 6,
   "id": "dce0cdd8-15ad-46ef-99f3-5a4d5708eb27",
   "metadata": {},
   "outputs": [
    {
     "name": "stdout",
     "output_type": "stream",
     "text": [
      "training R2 =  0.963\n",
      "training RMSE = 13.819\n",
      "test R2 =  0.783\n",
      "test RMSE = 37.023\n"
     ]
    }
   ],
   "source": [
    "from sklearn.ensemble import RandomForestRegressor\n",
    "from sklearn.metrics import mean_squared_error\n",
    "rf = RandomForestRegressor(n_estimators=50, random_state=1)\n",
    "\n",
    "rf.fit(X_train, y_train)\n",
    "print(f'training R2 = {rf.score(X_train, y_train): .03f}')\n",
    "print(f'training RMSE = {np.sqrt(mean_squared_error(y_true=y_train, y_pred=rf.predict(X_train))):.3f}')\n",
    "\n",
    "print(f'test R2 = {rf.score(X_test, y_test): .03f}')\n",
    "print(f'test RMSE = {np.sqrt(mean_squared_error(y_true=y_test, y_pred=rf.predict(X_test))):.3f}')"
   ]
  },
  {
   "cell_type": "code",
   "execution_count": 7,
   "id": "62707c2f-d755-450d-9c6a-ebcd0290d2e8",
   "metadata": {},
   "outputs": [
    {
     "name": "stdout",
     "output_type": "stream",
     "text": [
      "Cross-validation results:\n",
      "Folds: 5, mean R2: 0.665\n",
      "Folds: 5, mean RMSE: 37.263\n"
     ]
    }
   ],
   "source": [
    "from sklearn.model_selection import KFold, cross_val_score\n",
    "# compute cross validation scores for random forest model\n",
    "crossvalidation = KFold(n_splits=5, shuffle=True, random_state=1)\n",
    "r2_scores = cross_val_score(rf, X_train, y_train, scoring='r2', cv=crossvalidation, n_jobs=-1)\n",
    "scores = cross_val_score(rf, X_train, y_train, scoring='neg_mean_squared_error', cv=crossvalidation, n_jobs=-1)\n",
    "rmse_scores = [np.sqrt(abs(s)) for s in scores]\n",
    "\n",
    "print('Cross-validation results:')\n",
    "print('Folds: %i, mean R2: %.3f' % (len(scores), np.mean(np.abs(r2_scores))))\n",
    "print('Folds: %i, mean RMSE: %.3f' % (len(scores), np.mean(np.abs(rmse_scores))))"
   ]
  },
  {
   "cell_type": "code",
   "execution_count": 8,
   "id": "7df9972e-7acc-4d26-9281-ad91c1ce0c4d",
   "metadata": {},
   "outputs": [
    {
     "data": {
      "image/png": "[encoded data removed]",
      "text/plain": [
       "<Figure size 300x300 with 1 Axes>"
      ]
     },
     "metadata": {},
     "output_type": "display_data"
    }
   ],
   "source": [
    "from sklearn.model_selection import cross_val_predict\n",
    "import matplotlib.pyplot as plt\n",
    "import matplotlib.ticker as plticker\n",
    "\n",
    "fig, ax = plt.subplots(figsize=[3,3])\n",
    "\n",
    "y_predicted = rf.predict(X_test)\n",
    "ax.plot(y_test, y_predicted, '.')\n",
    "ymin, ymax = np.min([y_test, y_predicted]), np.max([y_test, y_predicted])\n",
    "plt.xlim(ymin, ymax)\n",
    "plt.ylim(ymin, ymax)\n",
    "ax.axline((0, 0), slope=1, color='k')\n",
    "loc = plticker.AutoLocator() # this locator puts ticks at regular intervals\n",
    "ax.xaxis.set_major_locator(loc)\n",
    "ax.yaxis.set_major_locator(loc)\n",
    "ax.set_xlabel(r'T$_{C}$ truth (K)')\n",
    "ax.set_ylabel(r'T$_{C}$ predicted (K)')\n",
    "ax.set_aspect('equal', 'box')\n",
    "fig.tight_layout()\n",
    "fig.savefig('rf.png', dpi=300)"
   ]
  },
  {
   "cell_type": "code",
   "execution_count": 9,
   "id": "ce12807a-4811-4922-b423-0d93dbf38654",
   "metadata": {},
   "outputs": [],
   "source": [
    "importances = rf.feature_importances_\n",
    "# included = np.asarray(included)\n",
    "included = X.columns.values\n",
    "indices = np.argsort(importances)[::-1]"
   ]
  },
  {
   "cell_type": "code",
   "execution_count": 10,
   "id": "ade18f26-bb3f-435f-8ef7-977d4f69a590",
   "metadata": {},
   "outputs": [
    {
     "data": {
      "image/png": "[encoded data removed]",
      "text/plain": [
       "<Figure size 800x300 with 1 Axes>"
      ]
     },
     "metadata": {},
     "output_type": "display_data"
    }
   ],
   "source": [
    "fig, ax = plt.subplots(figsize=[8,3])\n",
    "\n",
    "features = included[indices][0:12]\n",
    "scores = importances[indices][0:12]\n",
    "\n",
    "features[features=='Annealing Temperature (K)'] = r'T$_{ann.} (K)$'\n",
    "features[features=='Thickness (mu m)'] = 'Thic. ($\\mu$m)'\n",
    "features[features=='Annealing Time (s)'] = r't$_{ann.} (s)$'\n",
    "\n",
    "ax.bar(features, scores)\n",
    "ax.set_ylabel('Feature importance')\n",
    "fig.autofmt_xdate(rotation=45)\n",
    "fig.tight_layout()\n",
    "fig.savefig('feat_weights.png', dpi=300)"
   ]
  },
  {
   "cell_type": "code",
   "execution_count": null,
   "id": "60848e71-a6c2-424a-ade2-216ec0221ae1",
   "metadata": {},
   "outputs": [],
   "source": []
  }
 ],
 "metadata": {
  "kernelspec": {
   "display_name": "Python 3 (ipykernel)",
   "language": "python",
   "name": "python3"
  },
  "language_info": {
   "codemirror_mode": {
    "name": "ipython",
    "version": 3
   },
   "file_extension": ".py",
   "mimetype": "text/x-python",
   "name": "python",
   "nbconvert_exporter": "python",
   "pygments_lexer": "ipython3",
   "version": "3.10.0"
  }
 },
 "nbformat": 4,
 "nbformat_minor": 5
}
