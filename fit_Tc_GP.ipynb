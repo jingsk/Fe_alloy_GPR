{
 "cells": [
  {
   "cell_type": "code",
   "execution_count": 1,
   "id": "8bbc5e6f-315e-4a8e-9635-4e26a5d6c237",
   "metadata": {},
   "outputs": [],
   "source": [
    "import pandas as pd\n",
    "import numpy as np\n",
    "df = pd.read_csv('./dataset/TCurieData.csv', na_values=0)\n",
    "df = df.rename(columns={'Composition': 'formula'})"
   ]
  },
  {
   "cell_type": "code",
   "execution_count": 2,
   "id": "30190f19-4b58-456d-ba1b-7dcf2e778be3",
   "metadata": {},
   "outputs": [
    {
     "data": {
      "text/html": [
       "<div>\n",
       "<style scoped>\n",
       "    .dataframe tbody tr th:only-of-type {\n",
       "        vertical-align: middle;\n",
       "    }\n",
       "\n",
       "    .dataframe tbody tr th {\n",
       "        vertical-align: top;\n",
       "    }\n",
       "\n",
       "    .dataframe thead th {\n",
       "        text-align: right;\n",
       "    }\n",
       "</style>\n",
       "<table border=\"1\" class=\"dataframe\">\n",
       "  <thead>\n",
       "    <tr style=\"text-align: right;\">\n",
       "      <th></th>\n",
       "      <th>formula</th>\n",
       "      <th>Annealing Time (s)</th>\n",
       "      <th>Annealing Temperature (K)</th>\n",
       "      <th>Thickness (mu m)</th>\n",
       "      <th>Tc (K)</th>\n",
       "    </tr>\n",
       "  </thead>\n",
       "  <tbody>\n",
       "    <tr>\n",
       "      <th>0</th>\n",
       "      <td>Fe69.5Co0.5Mn10Mo5B15</td>\n",
       "      <td>NaN</td>\n",
       "      <td>NaN</td>\n",
       "      <td>20.0</td>\n",
       "      <td>370.00000</td>\n",
       "    </tr>\n",
       "    <tr>\n",
       "      <th>1</th>\n",
       "      <td>Fe80Ni6Zr7Nb2B4Cu1</td>\n",
       "      <td>NaN</td>\n",
       "      <td>NaN</td>\n",
       "      <td>20.0</td>\n",
       "      <td>374.00000</td>\n",
       "    </tr>\n",
       "    <tr>\n",
       "      <th>2</th>\n",
       "      <td>Fe90Zr7B3</td>\n",
       "      <td>3600.0</td>\n",
       "      <td>873.25952</td>\n",
       "      <td>20.0</td>\n",
       "      <td>388.64693</td>\n",
       "    </tr>\n",
       "    <tr>\n",
       "      <th>3</th>\n",
       "      <td>Fe69.5Co0.5Mn10Mo5B15</td>\n",
       "      <td>1800.0</td>\n",
       "      <td>723.00000</td>\n",
       "      <td>20.0</td>\n",
       "      <td>389.00000</td>\n",
       "    </tr>\n",
       "    <tr>\n",
       "      <th>4</th>\n",
       "      <td>Fe90Zr7B3</td>\n",
       "      <td>3600.0</td>\n",
       "      <td>822.85321</td>\n",
       "      <td>20.0</td>\n",
       "      <td>389.68647</td>\n",
       "    </tr>\n",
       "  </tbody>\n",
       "</table>\n",
       "</div>"
      ],
      "text/plain": [
       "                 formula  Annealing Time (s)  Annealing Temperature (K)  \\\n",
       "0  Fe69.5Co0.5Mn10Mo5B15                 NaN                        NaN   \n",
       "1     Fe80Ni6Zr7Nb2B4Cu1                 NaN                        NaN   \n",
       "2              Fe90Zr7B3              3600.0                  873.25952   \n",
       "3  Fe69.5Co0.5Mn10Mo5B15              1800.0                  723.00000   \n",
       "4              Fe90Zr7B3              3600.0                  822.85321   \n",
       "\n",
       "   Thickness (mu m)     Tc (K)  \n",
       "0              20.0  370.00000  \n",
       "1              20.0  374.00000  \n",
       "2              20.0  388.64693  \n",
       "3              20.0  389.00000  \n",
       "4              20.0  389.68647  "
      ]
     },
     "execution_count": 2,
     "metadata": {},
     "output_type": "execute_result"
    }
   ],
   "source": [
    "df.head()"
   ]
  },
  {
   "cell_type": "code",
   "execution_count": 3,
   "id": "a3f43d3f-ce19-45c1-a44c-b71300186ea0",
   "metadata": {},
   "outputs": [
    {
     "data": {
      "text/html": [
       "<div>\n",
       "<style scoped>\n",
       "    .dataframe tbody tr th:only-of-type {\n",
       "        vertical-align: middle;\n",
       "    }\n",
       "\n",
       "    .dataframe tbody tr th {\n",
       "        vertical-align: top;\n",
       "    }\n",
       "\n",
       "    .dataframe thead th {\n",
       "        text-align: right;\n",
       "    }\n",
       "</style>\n",
       "<table border=\"1\" class=\"dataframe\">\n",
       "  <thead>\n",
       "    <tr style=\"text-align: right;\">\n",
       "      <th></th>\n",
       "      <th>Annealing Time (s)</th>\n",
       "      <th>Annealing Temperature (K)</th>\n",
       "      <th>Thickness (mu m)</th>\n",
       "      <th>Tc (K)</th>\n",
       "    </tr>\n",
       "  </thead>\n",
       "  <tbody>\n",
       "    <tr>\n",
       "      <th>count</th>\n",
       "      <td>98.000000</td>\n",
       "      <td>98.000000</td>\n",
       "      <td>220.000000</td>\n",
       "      <td>220.000000</td>\n",
       "    </tr>\n",
       "    <tr>\n",
       "      <th>mean</th>\n",
       "      <td>1668.527573</td>\n",
       "      <td>735.758597</td>\n",
       "      <td>21.677273</td>\n",
       "      <td>599.232518</td>\n",
       "    </tr>\n",
       "    <tr>\n",
       "      <th>std</th>\n",
       "      <td>1439.796336</td>\n",
       "      <td>74.034270</td>\n",
       "      <td>3.351607</td>\n",
       "      <td>73.767177</td>\n",
       "    </tr>\n",
       "    <tr>\n",
       "      <th>min</th>\n",
       "      <td>60.000000</td>\n",
       "      <td>573.000000</td>\n",
       "      <td>17.500000</td>\n",
       "      <td>370.000000</td>\n",
       "    </tr>\n",
       "    <tr>\n",
       "      <th>25%</th>\n",
       "      <td>240.000000</td>\n",
       "      <td>679.500000</td>\n",
       "      <td>20.000000</td>\n",
       "      <td>587.000000</td>\n",
       "    </tr>\n",
       "    <tr>\n",
       "      <th>50%</th>\n",
       "      <td>1800.000000</td>\n",
       "      <td>745.514655</td>\n",
       "      <td>20.000000</td>\n",
       "      <td>605.983795</td>\n",
       "    </tr>\n",
       "    <tr>\n",
       "      <th>75%</th>\n",
       "      <td>3600.000000</td>\n",
       "      <td>780.500000</td>\n",
       "      <td>22.500000</td>\n",
       "      <td>626.768258</td>\n",
       "    </tr>\n",
       "    <tr>\n",
       "      <th>max</th>\n",
       "      <td>3857.047930</td>\n",
       "      <td>924.632090</td>\n",
       "      <td>30.000000</td>\n",
       "      <td>769.000000</td>\n",
       "    </tr>\n",
       "  </tbody>\n",
       "</table>\n",
       "</div>"
      ],
      "text/plain": [
       "       Annealing Time (s)  Annealing Temperature (K)  Thickness (mu m)  \\\n",
       "count           98.000000                  98.000000        220.000000   \n",
       "mean          1668.527573                 735.758597         21.677273   \n",
       "std           1439.796336                  74.034270          3.351607   \n",
       "min             60.000000                 573.000000         17.500000   \n",
       "25%            240.000000                 679.500000         20.000000   \n",
       "50%           1800.000000                 745.514655         20.000000   \n",
       "75%           3600.000000                 780.500000         22.500000   \n",
       "max           3857.047930                 924.632090         30.000000   \n",
       "\n",
       "           Tc (K)  \n",
       "count  220.000000  \n",
       "mean   599.232518  \n",
       "std     73.767177  \n",
       "min    370.000000  \n",
       "25%    587.000000  \n",
       "50%    605.983795  \n",
       "75%    626.768258  \n",
       "max    769.000000  "
      ]
     },
     "execution_count": 3,
     "metadata": {},
     "output_type": "execute_result"
    }
   ],
   "source": [
    "df.describe()"
   ]
  },
  {
   "cell_type": "code",
   "execution_count": 4,
   "id": "88581e59-9d8c-4764-a283-716e86b03b29",
   "metadata": {},
   "outputs": [],
   "source": [
    "from utils import add_feature\n",
    "\n",
    "load_df = True\n",
    "if load_df:\n",
    "    df = pd.read_pickle(\"./df_data.pkl\")\n",
    "else:    \n",
    "    df = add_feature.add_composition(df)\n",
    "    df = add_feature.add_element_fraction(df)\n",
    "    df.to_pickle(\"./df_data.pkl\")\n",
    "\n",
    "#df = add_feature.add_Wen_alloys(df)\n",
    "#df = add_feature.add_Yang_alloys(df)\n",
    "#df = add_feature.add_valence_orbitals(df)\n",
    "#df = add_feature.add_magpie(df)"
   ]
  },
  {
   "cell_type": "code",
   "execution_count": 5,
   "id": "03d27590-f027-41a1-8dff-f559d85bcd0c",
   "metadata": {},
   "outputs": [],
   "source": [
    "from sklearn.model_selection import train_test_split\n",
    "from botorch.utils.transforms import normalize\n",
    "import torch\n",
    "\n",
    "drop_NaN = False\n",
    "drop_col_with_NaN = True\n",
    "if drop_NaN:\n",
    "        \n",
    "    X = df.dropna().drop(['Tc (K)', \n",
    "                 'composition',\n",
    "                 'formula'], axis =1)\n",
    "    \n",
    "    y = df.dropna()['Tc (K)']\n",
    "    \n",
    "\n",
    "if drop_col_with_NaN:\n",
    "    X = df.drop(['Tc (K)', \n",
    "                 'composition',\n",
    "                 'formula',\n",
    "                 'Annealing Time (s)',\n",
    "                 'Annealing Temperature (K)'\n",
    "                ], axis =1)\n",
    "    y = df['Tc (K)']\n",
    "\n",
    "scale_col = [i for i, col in enumerate(X.columns) if col in ['Annealing Time (s)',\n",
    "                                                             'Annealing Temperature (K)',\n",
    "                                                             'Thickness (mu m)']]\n",
    "EF_col = [i for i in range(X.shape[1]) if i not in scale_col]\n",
    "X = torch.tensor(X.values, dtype=torch.double)\n",
    "y = torch.tensor(y.values, dtype=torch.double)"
   ]
  },
  {
   "cell_type": "code",
   "execution_count": 6,
   "id": "5ae6c7f9-53ae-4017-a8b4-d9ad36a68c73",
   "metadata": {},
   "outputs": [],
   "source": [
    "bounds = torch.zeros(2, X.shape[1])\n",
    "bounds[0,scale_col] = torch.tensor([x.min() for x in X[:,scale_col].T], dtype=torch.float)\n",
    "bounds[1,scale_col] = torch.tensor([x.max() for x in X[:,scale_col].T], dtype=torch.float)\n",
    "\n",
    "X = normalize(X, bounds)\n",
    "#X = MinMaxScaler(X.values)\n",
    "#y = MinMaxScaler(y.values)\n",
    "X_train, X_test, y_train, y_test = train_test_split(X, \n",
    "                                                    y.unsqueeze(dim=1), \n",
    "                                                    test_size=0.2, \n",
    "                                                    random_state=1)"
   ]
  },
  {
   "cell_type": "code",
   "execution_count": 7,
   "id": "e6df7eb0-f20d-4f33-a5e9-78653518211b",
   "metadata": {},
   "outputs": [],
   "source": [
    "# X = torch.tensor([[10,5, 1],\n",
    "#                   [15,2, 2],\n",
    "#                   [5, 6, 5]])\n",
    "# norm_factor = torch.sum(X[:,1:3], axis=1)\n",
    "# X[:,1:3]/norm_factor[:,None]"
   ]
  },
  {
   "cell_type": "code",
   "execution_count": 8,
   "id": "b4d1c929-80b3-4789-8e03-7ecd40bb69cb",
   "metadata": {},
   "outputs": [],
   "source": [
    "\n",
    "# test_x = torch.tensor([[1,2,3,5],\n",
    "#                        [0,0,1,5],\n",
    "#                        [10,15,15,6]])\n",
    "# normalize_EF.transform(test_x)"
   ]
  },
  {
   "cell_type": "code",
   "execution_count": 9,
   "id": "3c985812-1812-408d-b85c-06ca90754843",
   "metadata": {},
   "outputs": [
    {
     "data": {
      "text/plain": [
       "[0]"
      ]
     },
     "execution_count": 9,
     "metadata": {},
     "output_type": "execute_result"
    }
   ],
   "source": [
    "scale_col"
   ]
  },
  {
   "cell_type": "code",
   "execution_count": 10,
   "id": "dce0cdd8-15ad-46ef-99f3-5a4d5708eb27",
   "metadata": {},
   "outputs": [
    {
     "name": "stdout",
     "output_type": "stream",
     "text": [
      "Epoch 500/2000 - Loss: 1.431 noise: 1.480\n",
      "Epoch 1000/2000 - Loss: 1.148 noise: 0.795\n",
      "Epoch 1500/2000 - Loss: 0.692 noise: 0.112\n",
      "Epoch 2000/2000 - Loss: 0.673 noise: 0.102\n"
     ]
    }
   ],
   "source": [
    "import torch\n",
    "from botorch.models.gp_regression import SingleTaskGP\n",
    "from botorch.models.transforms.outcome import Standardize\n",
    "from gpytorch.mlls.sum_marginal_log_likelihood import ExactMarginalLogLikelihood\n",
    "from gpytorch.kernels import RBFKernel, ScaleKernel\n",
    "#from botorch.fit import fit_gpytorch_mll\n",
    "from torch.optim import SGD, Adam\n",
    "from utils.model import trainGP, NormalizeElementFractions\n",
    "\n",
    "\n",
    "outcome_transform = Standardize(m=1)\n",
    "normalize_EF = NormalizeElementFractions(indices=EF_col)\n",
    "model = SingleTaskGP(X_train, \n",
    "                     y_train,\n",
    "                     input_transform=normalize_EF,\n",
    "                     outcome_transform=outcome_transform,\n",
    "                     covar_module=ScaleKernel(RBFKernel()),\n",
    ")\n",
    "\n",
    "optimizer_kwargs = {'lr': 1e-3, 'weight_decay': 1e-3}\n",
    "model.train()\n",
    "trainGP(model,\n",
    "        X_train = X_train,\n",
    "        mll = ExactMarginalLogLikelihood(model.likelihood, model), \n",
    "        optimizer = Adam([{'params': model.parameters()}], **optimizer_kwargs),\n",
    "        num_epochs=2000\n",
    "       )"
   ]
  },
  {
   "cell_type": "code",
   "execution_count": 11,
   "id": "f8678ae1-e109-44b2-b8b4-3149e7476267",
   "metadata": {},
   "outputs": [
    {
     "name": "stdout",
     "output_type": "stream",
     "text": [
      "train R2 =  0.921\n",
      "train RMSE = 20.206\n",
      "test R2 =  0.829\n",
      "test RMSE = 32.912\n"
     ]
    }
   ],
   "source": [
    "from sklearn.metrics import mean_squared_error, r2_score    \n",
    "from utils.model import evaluateGP\n",
    "\n",
    "y_train_predicted, y_train_stddev = evaluateGP(model, X_train)\n",
    "y_test_predicted, y_test_stddev = evaluateGP(model, X_test)\n",
    "\n",
    "for y_true, y_pred, l in zip([y_train.cpu().squeeze().numpy(), y_test.cpu().squeeze().numpy()],\n",
    "                             [y_train_predicted, y_test_predicted],\n",
    "                             ['train', 'test']):\n",
    "\n",
    "    print(f\"{l} R2 = {r2_score(y_true= y_true, y_pred = y_pred): .03f}\")\n",
    "    print(f'{l} RMSE = {np.sqrt(mean_squared_error(y_true,y_pred)):.3f}')"
   ]
  },
  {
   "cell_type": "code",
   "execution_count": 12,
   "id": "e5e6ebb3-a8fb-40c9-baea-c48b62867676",
   "metadata": {},
   "outputs": [
    {
     "data": {
      "image/png": "[encoded data removed]",
      "text/plain": [
       "<Figure size 300x300 with 1 Axes>"
      ]
     },
     "metadata": {},
     "output_type": "display_data"
    }
   ],
   "source": [
    "#from sklearn.model_selection import cross_val_predict\n",
    "import matplotlib.pyplot as plt\n",
    "import matplotlib.ticker as plticker\n",
    "\n",
    "fig, ax = plt.subplots(figsize=[3,3])\n",
    "#y_truth = y_train.cpu().squeeze().numpy()\n",
    "#y_model = y_train_predicted\n",
    "\n",
    "# y_truth = y_test.cpu().squeeze().numpy()\n",
    "# y_model = y_test_predicted\n",
    "\n",
    "#y_predicted = posterior.mean.cpu().squeeze().numpy()\n",
    "for y_truth, y_model, stddev, l in zip([y_train.cpu().squeeze().numpy(), y_test.cpu().squeeze().numpy()],\n",
    "                                  [y_train_predicted, y_test_predicted],\n",
    "                                  [y_train_stddev, y_test_stddev],\n",
    "                                  ['train_set', 'test_set']\n",
    "                                 ):\n",
    "    yerr = 2*np.array([stddev,stddev])\n",
    "    ax.errorbar(y_truth, y_model, yerr=yerr, label=l,\n",
    "                fmt='.',capsize=3, elinewidth=1, ecolor = \"black\")\n",
    "ymin = np.min([ax.get_xlim()[0], ax.get_ylim()[0]])\n",
    "ymax = np.max([ax.get_xlim()[1], ax.get_ylim()[1]])\n",
    "ax.set_xlim([ymin, ymax])\n",
    "ax.set_ylim([ymin, ymax])\n",
    "ax.axline((0, 0), slope=1, color='k')\n",
    "ax.legend()\n",
    "loc = plticker.AutoLocator() # this locator puts ticks at regular intervals\n",
    "ax.xaxis.set_major_locator(loc)\n",
    "ax.yaxis.set_major_locator(loc)\n",
    "ax.set_xlabel(r'T$_{C}$ truth (K)')\n",
    "ax.set_ylabel(r'T$_{C}$ predicted (K)')\n",
    "ax.set_aspect('equal', 'box')\n",
    "fig.tight_layout()\n",
    "fig.savefig('gp.png', dpi=300)"
   ]
  },
  {
   "cell_type": "code",
   "execution_count": null,
   "id": "84c7f663-a3d3-4aa0-b75c-613e8ab8d0a6",
   "metadata": {},
   "outputs": [],
   "source": []
  },
  {
   "cell_type": "code",
   "execution_count": 14,
   "id": "f345991f-7586-456f-9daf-f59b1f0d7c32",
   "metadata": {},
   "outputs": [
    {
     "data": {
      "text/plain": [
       "True"
      ]
     },
     "execution_count": 14,
     "metadata": {},
     "output_type": "execute_result"
    }
   ],
   "source": [
    "from utils.model import test_EF_normalized\n",
    "test_EF_normalized(model,X_train,EF_col)"
   ]
  },
  {
   "cell_type": "code",
   "execution_count": null,
   "id": "8466f117-fac8-43cb-b0c2-22d44c44be43",
   "metadata": {},
   "outputs": [],
   "source": []
  }
 ],
 "metadata": {
  "kernelspec": {
   "display_name": "Python 3 (ipykernel)",
   "language": "python",
   "name": "python3"
  },
  "language_info": {
   "codemirror_mode": {
    "name": "ipython",
    "version": 3
   },
   "file_extension": ".py",
   "mimetype": "text/x-python",
   "name": "python",
   "nbconvert_exporter": "python",
   "pygments_lexer": "ipython3",
   "version": "3.10.0"
  }
 },
 "nbformat": 4,
 "nbformat_minor": 5
}
